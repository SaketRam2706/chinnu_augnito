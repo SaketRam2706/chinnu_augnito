{
 "cells": [
  {
   "cell_type": "markdown",
   "id": "7e4aaf6c",
   "metadata": {
    "papermill": {
     "duration": 0.009876,
     "end_time": "2023-11-28T11:30:05.465646",
     "exception": false,
     "start_time": "2023-11-28T11:30:05.455770",
     "status": "completed"
    },
    "tags": []
   },
   "source": [
    "### Importing Libraries"
   ]
  },
  {
   "cell_type": "code",
   "execution_count": 1,
   "id": "c39261bf",
   "metadata": {
    "execution": {
     "iopub.execute_input": "2023-11-28T11:30:05.486490Z",
     "iopub.status.busy": "2023-11-28T11:30:05.485694Z",
     "iopub.status.idle": "2023-11-28T11:30:11.204445Z",
     "shell.execute_reply": "2023-11-28T11:30:11.203557Z"
    },
    "papermill": {
     "duration": 5.731862,
     "end_time": "2023-11-28T11:30:11.206966",
     "exception": false,
     "start_time": "2023-11-28T11:30:05.475104",
     "status": "completed"
    },
    "tags": []
   },
   "outputs": [],
   "source": [
    "import numpy as np\n",
    "import pandas as pd\n",
    "import matplotlib.pyplot as plt\n",
    "import seaborn as sns\n",
    "import torch\n",
    "from torch.optim import Adam\n",
    "from torch.utils.data import Dataset, DataLoader"
   ]
  },
  {
   "cell_type": "markdown",
   "id": "50f96dfe",
   "metadata": {
    "papermill": {
     "duration": 0.010228,
     "end_time": "2023-11-28T11:30:11.228705",
     "exception": false,
     "start_time": "2023-11-28T11:30:11.218477",
     "status": "completed"
    },
    "tags": []
   },
   "source": [
    "### Loading and preparing the Dataset"
   ]
  },
  {
   "cell_type": "code",
   "execution_count": 4,
   "id": "dc271483",
   "metadata": {
    "execution": {
     "iopub.execute_input": "2023-11-28T11:30:11.249975Z",
     "iopub.status.busy": "2023-11-28T11:30:11.249420Z",
     "iopub.status.idle": "2023-11-28T11:30:11.618495Z",
     "shell.execute_reply": "2023-11-28T11:30:11.617488Z"
    },
    "papermill": {
     "duration": 0.382386,
     "end_time": "2023-11-28T11:30:11.621059",
     "exception": false,
     "start_time": "2023-11-28T11:30:11.238673",
     "status": "completed"
    },
    "tags": []
   },
   "outputs": [
    {
     "data": {
      "text/html": [
       "<div>\n",
       "<style scoped>\n",
       "    .dataframe tbody tr th:only-of-type {\n",
       "        vertical-align: middle;\n",
       "    }\n",
       "\n",
       "    .dataframe tbody tr th {\n",
       "        vertical-align: top;\n",
       "    }\n",
       "\n",
       "    .dataframe thead th {\n",
       "        text-align: right;\n",
       "    }\n",
       "</style>\n",
       "<table border=\"1\" class=\"dataframe\">\n",
       "  <thead>\n",
       "    <tr style=\"text-align: right;\">\n",
       "      <th></th>\n",
       "      <th>Unnamed: 0</th>\n",
       "      <th>description</th>\n",
       "      <th>medical_specialty</th>\n",
       "      <th>sample_name</th>\n",
       "      <th>transcription</th>\n",
       "      <th>keywords</th>\n",
       "    </tr>\n",
       "  </thead>\n",
       "  <tbody>\n",
       "    <tr>\n",
       "      <th>0</th>\n",
       "      <td>0</td>\n",
       "      <td>A 23-year-old white female presents with comp...</td>\n",
       "      <td>Allergy / Immunology</td>\n",
       "      <td>Allergic Rhinitis</td>\n",
       "      <td>SUBJECTIVE:,  This 23-year-old white female pr...</td>\n",
       "      <td>allergy / immunology, allergic rhinitis, aller...</td>\n",
       "    </tr>\n",
       "    <tr>\n",
       "      <th>1</th>\n",
       "      <td>1</td>\n",
       "      <td>Consult for laparoscopic gastric bypass.</td>\n",
       "      <td>Bariatrics</td>\n",
       "      <td>Laparoscopic Gastric Bypass Consult - 2</td>\n",
       "      <td>PAST MEDICAL HISTORY:, He has difficulty climb...</td>\n",
       "      <td>bariatrics, laparoscopic gastric bypass, weigh...</td>\n",
       "    </tr>\n",
       "    <tr>\n",
       "      <th>2</th>\n",
       "      <td>2</td>\n",
       "      <td>Consult for laparoscopic gastric bypass.</td>\n",
       "      <td>Bariatrics</td>\n",
       "      <td>Laparoscopic Gastric Bypass Consult - 1</td>\n",
       "      <td>HISTORY OF PRESENT ILLNESS: , I have seen ABC ...</td>\n",
       "      <td>bariatrics, laparoscopic gastric bypass, heart...</td>\n",
       "    </tr>\n",
       "    <tr>\n",
       "      <th>3</th>\n",
       "      <td>3</td>\n",
       "      <td>2-D M-Mode. Doppler.</td>\n",
       "      <td>Cardiovascular / Pulmonary</td>\n",
       "      <td>2-D Echocardiogram - 1</td>\n",
       "      <td>2-D M-MODE: , ,1.  Left atrial enlargement wit...</td>\n",
       "      <td>cardiovascular / pulmonary, 2-d m-mode, dopple...</td>\n",
       "    </tr>\n",
       "    <tr>\n",
       "      <th>4</th>\n",
       "      <td>4</td>\n",
       "      <td>2-D Echocardiogram</td>\n",
       "      <td>Cardiovascular / Pulmonary</td>\n",
       "      <td>2-D Echocardiogram - 2</td>\n",
       "      <td>1.  The left ventricular cavity size and wall ...</td>\n",
       "      <td>cardiovascular / pulmonary, 2-d, doppler, echo...</td>\n",
       "    </tr>\n",
       "  </tbody>\n",
       "</table>\n",
       "</div>"
      ],
      "text/plain": [
       "   Unnamed: 0                                        description  \\\n",
       "0           0   A 23-year-old white female presents with comp...   \n",
       "1           1           Consult for laparoscopic gastric bypass.   \n",
       "2           2           Consult for laparoscopic gastric bypass.   \n",
       "3           3                             2-D M-Mode. Doppler.     \n",
       "4           4                                 2-D Echocardiogram   \n",
       "\n",
       "             medical_specialty                                sample_name  \\\n",
       "0         Allergy / Immunology                         Allergic Rhinitis    \n",
       "1                   Bariatrics   Laparoscopic Gastric Bypass Consult - 2    \n",
       "2                   Bariatrics   Laparoscopic Gastric Bypass Consult - 1    \n",
       "3   Cardiovascular / Pulmonary                    2-D Echocardiogram - 1    \n",
       "4   Cardiovascular / Pulmonary                    2-D Echocardiogram - 2    \n",
       "\n",
       "                                       transcription  \\\n",
       "0  SUBJECTIVE:,  This 23-year-old white female pr...   \n",
       "1  PAST MEDICAL HISTORY:, He has difficulty climb...   \n",
       "2  HISTORY OF PRESENT ILLNESS: , I have seen ABC ...   \n",
       "3  2-D M-MODE: , ,1.  Left atrial enlargement wit...   \n",
       "4  1.  The left ventricular cavity size and wall ...   \n",
       "\n",
       "                                            keywords  \n",
       "0  allergy / immunology, allergic rhinitis, aller...  \n",
       "1  bariatrics, laparoscopic gastric bypass, weigh...  \n",
       "2  bariatrics, laparoscopic gastric bypass, heart...  \n",
       "3  cardiovascular / pulmonary, 2-d m-mode, dopple...  \n",
       "4  cardiovascular / pulmonary, 2-d, doppler, echo...  "
      ]
     },
     "execution_count": 4,
     "metadata": {},
     "output_type": "execute_result"
    }
   ],
   "source": [
    "df_medical = pd.read_csv(\"/home/sbandi/chinnu_augnito/mtsamples.csv\")\n",
    "df_medical.head()"
   ]
  },
  {
   "cell_type": "code",
   "execution_count": 5,
   "id": "a16037fb",
   "metadata": {
    "execution": {
     "iopub.execute_input": "2023-11-28T11:30:11.643064Z",
     "iopub.status.busy": "2023-11-28T11:30:11.642730Z",
     "iopub.status.idle": "2023-11-28T11:30:11.648471Z",
     "shell.execute_reply": "2023-11-28T11:30:11.647620Z"
    },
    "papermill": {
     "duration": 0.018115,
     "end_time": "2023-11-28T11:30:11.650426",
     "exception": false,
     "start_time": "2023-11-28T11:30:11.632311",
     "status": "completed"
    },
    "tags": []
   },
   "outputs": [
    {
     "data": {
      "text/plain": [
       "(4999, 6)"
      ]
     },
     "execution_count": 5,
     "metadata": {},
     "output_type": "execute_result"
    }
   ],
   "source": [
    "df_medical.shape"
   ]
  },
  {
   "cell_type": "markdown",
   "id": "5e24172c",
   "metadata": {
    "papermill": {
     "duration": 0.009236,
     "end_time": "2023-11-28T11:30:11.669414",
     "exception": false,
     "start_time": "2023-11-28T11:30:11.660178",
     "status": "completed"
    },
    "tags": []
   },
   "source": [
    "### Using Transcription column and keywords column"
   ]
  },
  {
   "cell_type": "code",
   "execution_count": 6,
   "id": "1ea4b0d1",
   "metadata": {
    "execution": {
     "iopub.execute_input": "2023-11-28T11:30:11.689720Z",
     "iopub.status.busy": "2023-11-28T11:30:11.689392Z",
     "iopub.status.idle": "2023-11-28T11:30:11.711253Z",
     "shell.execute_reply": "2023-11-28T11:30:11.710409Z"
    },
    "papermill": {
     "duration": 0.034275,
     "end_time": "2023-11-28T11:30:11.713235",
     "exception": false,
     "start_time": "2023-11-28T11:30:11.678960",
     "status": "completed"
    },
    "tags": []
   },
   "outputs": [
    {
     "data": {
      "text/html": [
       "<div>\n",
       "<style scoped>\n",
       "    .dataframe tbody tr th:only-of-type {\n",
       "        vertical-align: middle;\n",
       "    }\n",
       "\n",
       "    .dataframe tbody tr th {\n",
       "        vertical-align: top;\n",
       "    }\n",
       "\n",
       "    .dataframe thead th {\n",
       "        text-align: right;\n",
       "    }\n",
       "</style>\n",
       "<table border=\"1\" class=\"dataframe\">\n",
       "  <thead>\n",
       "    <tr style=\"text-align: right;\">\n",
       "      <th></th>\n",
       "      <th>transcription</th>\n",
       "      <th>keywords</th>\n",
       "    </tr>\n",
       "  </thead>\n",
       "  <tbody>\n",
       "    <tr>\n",
       "      <th>0</th>\n",
       "      <td>SUBJECTIVE:,  This 23-year-old white female pr...</td>\n",
       "      <td>allergy / immunology, allergic rhinitis, aller...</td>\n",
       "    </tr>\n",
       "    <tr>\n",
       "      <th>1</th>\n",
       "      <td>PAST MEDICAL HISTORY:, He has difficulty climb...</td>\n",
       "      <td>bariatrics, laparoscopic gastric bypass, weigh...</td>\n",
       "    </tr>\n",
       "    <tr>\n",
       "      <th>2</th>\n",
       "      <td>HISTORY OF PRESENT ILLNESS: , I have seen ABC ...</td>\n",
       "      <td>bariatrics, laparoscopic gastric bypass, heart...</td>\n",
       "    </tr>\n",
       "    <tr>\n",
       "      <th>3</th>\n",
       "      <td>2-D M-MODE: , ,1.  Left atrial enlargement wit...</td>\n",
       "      <td>cardiovascular / pulmonary, 2-d m-mode, dopple...</td>\n",
       "    </tr>\n",
       "    <tr>\n",
       "      <th>4</th>\n",
       "      <td>1.  The left ventricular cavity size and wall ...</td>\n",
       "      <td>cardiovascular / pulmonary, 2-d, doppler, echo...</td>\n",
       "    </tr>\n",
       "    <tr>\n",
       "      <th>...</th>\n",
       "      <td>...</td>\n",
       "      <td>...</td>\n",
       "    </tr>\n",
       "    <tr>\n",
       "      <th>4994</th>\n",
       "      <td>HISTORY:,  I had the pleasure of meeting and e...</td>\n",
       "      <td>NaN</td>\n",
       "    </tr>\n",
       "    <tr>\n",
       "      <th>4995</th>\n",
       "      <td>ADMITTING DIAGNOSIS: , Kawasaki disease.,DISCH...</td>\n",
       "      <td>allergy / immunology, mucous membranes, conjun...</td>\n",
       "    </tr>\n",
       "    <tr>\n",
       "      <th>4996</th>\n",
       "      <td>SUBJECTIVE: , This is a 42-year-old white fema...</td>\n",
       "      <td>NaN</td>\n",
       "    </tr>\n",
       "    <tr>\n",
       "      <th>4997</th>\n",
       "      <td>CHIEF COMPLAINT: , This 5-year-old male presen...</td>\n",
       "      <td>NaN</td>\n",
       "    </tr>\n",
       "    <tr>\n",
       "      <th>4998</th>\n",
       "      <td>HISTORY: , A 34-year-old male presents today s...</td>\n",
       "      <td>NaN</td>\n",
       "    </tr>\n",
       "  </tbody>\n",
       "</table>\n",
       "<p>4999 rows × 2 columns</p>\n",
       "</div>"
      ],
      "text/plain": [
       "                                          transcription  \\\n",
       "0     SUBJECTIVE:,  This 23-year-old white female pr...   \n",
       "1     PAST MEDICAL HISTORY:, He has difficulty climb...   \n",
       "2     HISTORY OF PRESENT ILLNESS: , I have seen ABC ...   \n",
       "3     2-D M-MODE: , ,1.  Left atrial enlargement wit...   \n",
       "4     1.  The left ventricular cavity size and wall ...   \n",
       "...                                                 ...   \n",
       "4994  HISTORY:,  I had the pleasure of meeting and e...   \n",
       "4995  ADMITTING DIAGNOSIS: , Kawasaki disease.,DISCH...   \n",
       "4996  SUBJECTIVE: , This is a 42-year-old white fema...   \n",
       "4997  CHIEF COMPLAINT: , This 5-year-old male presen...   \n",
       "4998  HISTORY: , A 34-year-old male presents today s...   \n",
       "\n",
       "                                               keywords  \n",
       "0     allergy / immunology, allergic rhinitis, aller...  \n",
       "1     bariatrics, laparoscopic gastric bypass, weigh...  \n",
       "2     bariatrics, laparoscopic gastric bypass, heart...  \n",
       "3     cardiovascular / pulmonary, 2-d m-mode, dopple...  \n",
       "4     cardiovascular / pulmonary, 2-d, doppler, echo...  \n",
       "...                                                 ...  \n",
       "4994                                                NaN  \n",
       "4995  allergy / immunology, mucous membranes, conjun...  \n",
       "4996                                                NaN  \n",
       "4997                                                NaN  \n",
       "4998                                                NaN  \n",
       "\n",
       "[4999 rows x 2 columns]"
      ]
     },
     "execution_count": 6,
     "metadata": {},
     "output_type": "execute_result"
    }
   ],
   "source": [
    "df_medical = df_medical.loc[:,[\"transcription\", \"keywords\"]]\n",
    "df_medical"
   ]
  },
  {
   "cell_type": "markdown",
   "id": "5dbb35a9",
   "metadata": {
    "papermill": {
     "duration": 0.009871,
     "end_time": "2023-11-28T11:30:11.733057",
     "exception": false,
     "start_time": "2023-11-28T11:30:11.723186",
     "status": "completed"
    },
    "tags": []
   },
   "source": [
    "### Let us look at the nulls in the DataFrame"
   ]
  },
  {
   "cell_type": "code",
   "execution_count": 7,
   "id": "c9db908a",
   "metadata": {
    "execution": {
     "iopub.execute_input": "2023-11-28T11:30:11.753660Z",
     "iopub.status.busy": "2023-11-28T11:30:11.753353Z",
     "iopub.status.idle": "2023-11-28T11:30:11.761194Z",
     "shell.execute_reply": "2023-11-28T11:30:11.760237Z"
    },
    "papermill": {
     "duration": 0.020172,
     "end_time": "2023-11-28T11:30:11.763205",
     "exception": false,
     "start_time": "2023-11-28T11:30:11.743033",
     "status": "completed"
    },
    "tags": []
   },
   "outputs": [
    {
     "data": {
      "text/plain": [
       "transcription      33\n",
       "keywords         1068\n",
       "dtype: int64"
      ]
     },
     "execution_count": 7,
     "metadata": {},
     "output_type": "execute_result"
    }
   ],
   "source": [
    "df_medical.isnull().sum()"
   ]
  },
  {
   "cell_type": "markdown",
   "id": "d5059fcd",
   "metadata": {
    "papermill": {
     "duration": 0.009853,
     "end_time": "2023-11-28T11:30:11.783124",
     "exception": false,
     "start_time": "2023-11-28T11:30:11.773271",
     "status": "completed"
    },
    "tags": []
   },
   "source": [
    "### Removing Null values from the data"
   ]
  },
  {
   "cell_type": "code",
   "execution_count": 8,
   "id": "904df3ba",
   "metadata": {
    "execution": {
     "iopub.execute_input": "2023-11-28T11:30:11.804004Z",
     "iopub.status.busy": "2023-11-28T11:30:11.803731Z",
     "iopub.status.idle": "2023-11-28T11:30:11.812396Z",
     "shell.execute_reply": "2023-11-28T11:30:11.811462Z"
    },
    "papermill": {
     "duration": 0.021452,
     "end_time": "2023-11-28T11:30:11.814613",
     "exception": false,
     "start_time": "2023-11-28T11:30:11.793161",
     "status": "completed"
    },
    "tags": []
   },
   "outputs": [
    {
     "data": {
      "text/plain": [
       "(3898, 2)"
      ]
     },
     "execution_count": 8,
     "metadata": {},
     "output_type": "execute_result"
    }
   ],
   "source": [
    "df_medical = df_medical[~(df_medical['transcription'].isnull()) & \n",
    "                        ~(df_medical['keywords'].isnull()) ]\n",
    "\n",
    "df_medical.shape"
   ]
  },
  {
   "cell_type": "markdown",
   "id": "677f3152",
   "metadata": {
    "papermill": {
     "duration": 0.009496,
     "end_time": "2023-11-28T11:30:11.835731",
     "exception": false,
     "start_time": "2023-11-28T11:30:11.826235",
     "status": "completed"
    },
    "tags": []
   },
   "source": [
    "### Let us see the length of input and output"
   ]
  },
  {
   "cell_type": "code",
   "execution_count": 9,
   "id": "c8f636ab",
   "metadata": {
    "execution": {
     "iopub.execute_input": "2023-11-28T11:30:11.856880Z",
     "iopub.status.busy": "2023-11-28T11:30:11.856607Z",
     "iopub.status.idle": "2023-11-28T11:30:12.477787Z",
     "shell.execute_reply": "2023-11-28T11:30:12.476836Z"
    },
    "papermill": {
     "duration": 0.634386,
     "end_time": "2023-11-28T11:30:12.480464",
     "exception": false,
     "start_time": "2023-11-28T11:30:11.846078",
     "status": "completed"
    },
    "tags": []
   },
   "outputs": [
    {
     "name": "stderr",
     "output_type": "stream",
     "text": [
      "/tmp/ipykernel_2100057/3926128181.py:2: UserWarning: \n",
      "\n",
      "`distplot` is a deprecated function and will be removed in seaborn v0.14.0.\n",
      "\n",
      "Please adapt your code to use either `displot` (a figure-level function with\n",
      "similar flexibility) or `histplot` (an axes-level function for histograms).\n",
      "\n",
      "For a guide to updating your code to use the new functions, please see\n",
      "https://gist.github.com/mwaskom/de44147ed2974457ad6372750bbe5751\n",
      "\n",
      "  sns.distplot(transcription)\n"
     ]
    },
    {
     "data": {
      "text/plain": [
       "<Axes: xlabel='transcription', ylabel='Density'>"
      ]
     },
     "execution_count": 9,
     "metadata": {},
     "output_type": "execute_result"
    },
    {
     "data": {
      "image/png": "[encoded data removed]",
      "text/plain": [
       "<Figure size 640x480 with 1 Axes>"
      ]
     },
     "metadata": {},
     "output_type": "display_data"
    }
   ],
   "source": [
    "transcription = df_medical['transcription'].apply(lambda x: len(x.split()))\n",
    "sns.distplot(transcription)"
   ]
  },
  {
   "cell_type": "markdown",
   "id": "a91abdbd",
   "metadata": {
    "papermill": {
     "duration": 0.011888,
     "end_time": "2023-11-28T11:30:12.504288",
     "exception": false,
     "start_time": "2023-11-28T11:30:12.492400",
     "status": "completed"
    },
    "tags": []
   },
   "source": [
    "##### Fixing Input Length to 750 tokens with Padding and truncation"
   ]
  },
  {
   "cell_type": "code",
   "execution_count": 10,
   "id": "bb94de0d",
   "metadata": {
    "execution": {
     "iopub.execute_input": "2023-11-28T11:30:12.528692Z",
     "iopub.status.busy": "2023-11-28T11:30:12.528324Z",
     "iopub.status.idle": "2023-11-28T11:30:12.940357Z",
     "shell.execute_reply": "2023-11-28T11:30:12.939358Z"
    },
    "papermill": {
     "duration": 0.426917,
     "end_time": "2023-11-28T11:30:12.942800",
     "exception": false,
     "start_time": "2023-11-28T11:30:12.515883",
     "status": "completed"
    },
    "tags": []
   },
   "outputs": [
    {
     "name": "stderr",
     "output_type": "stream",
     "text": [
      "/tmp/ipykernel_2100057/3731492226.py:3: UserWarning: \n",
      "\n",
      "`distplot` is a deprecated function and will be removed in seaborn v0.14.0.\n",
      "\n",
      "Please adapt your code to use either `displot` (a figure-level function with\n",
      "similar flexibility) or `histplot` (an axes-level function for histograms).\n",
      "\n",
      "For a guide to updating your code to use the new functions, please see\n",
      "https://gist.github.com/mwaskom/de44147ed2974457ad6372750bbe5751\n",
      "\n",
      "  sns.distplot(keywords)\n"
     ]
    },
    {
     "data": {
      "text/plain": [
       "<Axes: xlabel='keywords', ylabel='Density'>"
      ]
     },
     "execution_count": 10,
     "metadata": {},
     "output_type": "execute_result"
    },
    {
     "data": {
      "image/png": "[encoded data removed]",
      "text/plain": [
       "<Figure size 640x480 with 1 Axes>"
      ]
     },
     "metadata": {},
     "output_type": "display_data"
    }
   ],
   "source": [
    "keywords = df_medical['keywords'].apply(lambda x: len(x.split()))\n",
    "\n",
    "sns.distplot(keywords)"
   ]
  },
  {
   "cell_type": "markdown",
   "id": "37a38edc",
   "metadata": {
    "papermill": {
     "duration": 0.012494,
     "end_time": "2023-11-28T11:30:12.968510",
     "exception": false,
     "start_time": "2023-11-28T11:30:12.956016",
     "status": "completed"
    },
    "tags": []
   },
   "source": [
    "### Let us use at most 100 keywords"
   ]
  },
  {
   "cell_type": "code",
   "execution_count": 11,
   "id": "ca8cb6fc",
   "metadata": {
    "execution": {
     "iopub.execute_input": "2023-11-28T11:30:12.994861Z",
     "iopub.status.busy": "2023-11-28T11:30:12.994479Z",
     "iopub.status.idle": "2023-11-28T11:30:13.002102Z",
     "shell.execute_reply": "2023-11-28T11:30:13.001162Z"
    },
    "papermill": {
     "duration": 0.023089,
     "end_time": "2023-11-28T11:30:13.004234",
     "exception": false,
     "start_time": "2023-11-28T11:30:12.981145",
     "status": "completed"
    },
    "tags": []
   },
   "outputs": [
    {
     "data": {
      "text/plain": [
       "np.float64(894.0)"
      ]
     },
     "execution_count": 11,
     "metadata": {},
     "output_type": "execute_result"
    }
   ],
   "source": [
    "np.quantile(transcription,0.95)"
   ]
  },
  {
   "cell_type": "code",
   "execution_count": 12,
   "id": "96da7439",
   "metadata": {
    "execution": {
     "iopub.execute_input": "2023-11-28T11:30:13.030300Z",
     "iopub.status.busy": "2023-11-28T11:30:13.030021Z",
     "iopub.status.idle": "2023-11-28T11:30:13.041488Z",
     "shell.execute_reply": "2023-11-28T11:30:13.040620Z"
    },
    "papermill": {
     "duration": 0.027243,
     "end_time": "2023-11-28T11:30:13.043783",
     "exception": false,
     "start_time": "2023-11-28T11:30:13.016540",
     "status": "completed"
    },
    "tags": []
   },
   "outputs": [
    {
     "data": {
      "text/html": [
       "<div>\n",
       "<style scoped>\n",
       "    .dataframe tbody tr th:only-of-type {\n",
       "        vertical-align: middle;\n",
       "    }\n",
       "\n",
       "    .dataframe tbody tr th {\n",
       "        vertical-align: top;\n",
       "    }\n",
       "\n",
       "    .dataframe thead th {\n",
       "        text-align: right;\n",
       "    }\n",
       "</style>\n",
       "<table border=\"1\" class=\"dataframe\">\n",
       "  <thead>\n",
       "    <tr style=\"text-align: right;\">\n",
       "      <th></th>\n",
       "      <th>transcription</th>\n",
       "      <th>keywords</th>\n",
       "    </tr>\n",
       "  </thead>\n",
       "  <tbody>\n",
       "    <tr>\n",
       "      <th>0</th>\n",
       "      <td>SUBJECTIVE:,  This 23-year-old white female pr...</td>\n",
       "      <td>allergy / immunology, allergic rhinitis, aller...</td>\n",
       "    </tr>\n",
       "    <tr>\n",
       "      <th>1</th>\n",
       "      <td>PAST MEDICAL HISTORY:, He has difficulty climb...</td>\n",
       "      <td>bariatrics, laparoscopic gastric bypass, weigh...</td>\n",
       "    </tr>\n",
       "    <tr>\n",
       "      <th>2</th>\n",
       "      <td>HISTORY OF PRESENT ILLNESS: , I have seen ABC ...</td>\n",
       "      <td>bariatrics, laparoscopic gastric bypass, heart...</td>\n",
       "    </tr>\n",
       "    <tr>\n",
       "      <th>3</th>\n",
       "      <td>2-D M-MODE: , ,1.  Left atrial enlargement wit...</td>\n",
       "      <td>cardiovascular / pulmonary, 2-d m-mode, dopple...</td>\n",
       "    </tr>\n",
       "    <tr>\n",
       "      <th>4</th>\n",
       "      <td>1.  The left ventricular cavity size and wall ...</td>\n",
       "      <td>cardiovascular / pulmonary, 2-d, doppler, echo...</td>\n",
       "    </tr>\n",
       "    <tr>\n",
       "      <th>...</th>\n",
       "      <td>...</td>\n",
       "      <td>...</td>\n",
       "    </tr>\n",
       "    <tr>\n",
       "      <th>4984</th>\n",
       "      <td>ADMISSION DIAGNOSIS:,  Morbid obesity.  BMI is...</td>\n",
       "      <td>bariatrics, laparoscopic gastric bypass, gastr...</td>\n",
       "    </tr>\n",
       "    <tr>\n",
       "      <th>4985</th>\n",
       "      <td>HISTORY OF PRESENT ILLNESS:,  Ms. A is a 55-ye...</td>\n",
       "      <td>bariatrics, jenny craig, medifast, nutrisystem...</td>\n",
       "    </tr>\n",
       "    <tr>\n",
       "      <th>4989</th>\n",
       "      <td>PAST MEDICAL HISTORY:  ,She had a negative str...</td>\n",
       "      <td>bariatrics, elective surgical weight loss, sur...</td>\n",
       "    </tr>\n",
       "    <tr>\n",
       "      <th>4993</th>\n",
       "      <td>HISTORY:,  A 55-year-old female presents self-...</td>\n",
       "      <td>allergy / immunology, chronic glossitis, xeros...</td>\n",
       "    </tr>\n",
       "    <tr>\n",
       "      <th>4995</th>\n",
       "      <td>ADMITTING DIAGNOSIS: , Kawasaki disease.,DISCH...</td>\n",
       "      <td>allergy / immunology, mucous membranes, conjun...</td>\n",
       "    </tr>\n",
       "  </tbody>\n",
       "</table>\n",
       "<p>3898 rows × 2 columns</p>\n",
       "</div>"
      ],
      "text/plain": [
       "                                          transcription  \\\n",
       "0     SUBJECTIVE:,  This 23-year-old white female pr...   \n",
       "1     PAST MEDICAL HISTORY:, He has difficulty climb...   \n",
       "2     HISTORY OF PRESENT ILLNESS: , I have seen ABC ...   \n",
       "3     2-D M-MODE: , ,1.  Left atrial enlargement wit...   \n",
       "4     1.  The left ventricular cavity size and wall ...   \n",
       "...                                                 ...   \n",
       "4984  ADMISSION DIAGNOSIS:,  Morbid obesity.  BMI is...   \n",
       "4985  HISTORY OF PRESENT ILLNESS:,  Ms. A is a 55-ye...   \n",
       "4989  PAST MEDICAL HISTORY:  ,She had a negative str...   \n",
       "4993  HISTORY:,  A 55-year-old female presents self-...   \n",
       "4995  ADMITTING DIAGNOSIS: , Kawasaki disease.,DISCH...   \n",
       "\n",
       "                                               keywords  \n",
       "0     allergy / immunology, allergic rhinitis, aller...  \n",
       "1     bariatrics, laparoscopic gastric bypass, weigh...  \n",
       "2     bariatrics, laparoscopic gastric bypass, heart...  \n",
       "3     cardiovascular / pulmonary, 2-d m-mode, dopple...  \n",
       "4     cardiovascular / pulmonary, 2-d, doppler, echo...  \n",
       "...                                                 ...  \n",
       "4984  bariatrics, laparoscopic gastric bypass, gastr...  \n",
       "4985  bariatrics, jenny craig, medifast, nutrisystem...  \n",
       "4989  bariatrics, elective surgical weight loss, sur...  \n",
       "4993  allergy / immunology, chronic glossitis, xeros...  \n",
       "4995  allergy / immunology, mucous membranes, conjun...  \n",
       "\n",
       "[3898 rows x 2 columns]"
      ]
     },
     "execution_count": 12,
     "metadata": {},
     "output_type": "execute_result"
    }
   ],
   "source": [
    "df_medical"
   ]
  },
  {
   "cell_type": "code",
   "execution_count": 13,
   "id": "ae044d35",
   "metadata": {
    "execution": {
     "iopub.execute_input": "2023-11-28T11:30:13.071853Z",
     "iopub.status.busy": "2023-11-28T11:30:13.071527Z",
     "iopub.status.idle": "2023-11-28T11:30:44.296986Z",
     "shell.execute_reply": "2023-11-28T11:30:44.296032Z"
    },
    "papermill": {
     "duration": 31.242002,
     "end_time": "2023-11-28T11:30:44.299964",
     "exception": false,
     "start_time": "2023-11-28T11:30:13.057962",
     "status": "completed"
    },
    "tags": []
   },
   "outputs": [
    {
     "name": "stdout",
     "output_type": "stream",
     "text": [
      "Requirement already satisfied: accelerate in /home/sbandi/mamba_envs/sbench/lib/python3.10/site-packages (1.10.1)\n",
      "Collecting bitsandbytes\n",
      "  Downloading bitsandbytes-0.47.0-py3-none-manylinux_2_24_x86_64.whl.metadata (11 kB)\n",
      "Requirement already satisfied: numpy<3.0.0,>=1.17 in /home/sbandi/mamba_envs/sbench/lib/python3.10/site-packages (from accelerate) (2.2.6)\n",
      "Requirement already satisfied: packaging>=20.0 in /home/sbandi/mamba_envs/sbench/lib/python3.10/site-packages (from accelerate) (25.0)\n",
      "Requirement already satisfied: psutil in /home/sbandi/mamba_envs/sbench/lib/python3.10/site-packages (from accelerate) (7.0.0)\n",
      "Requirement already satisfied: pyyaml in /home/sbandi/mamba_envs/sbench/lib/python3.10/site-packages (from accelerate) (6.0.2)\n",
      "Requirement already satisfied: torch>=2.0.0 in /home/sbandi/mamba_envs/sbench/lib/python3.10/site-packages (from accelerate) (2.8.0)\n",
      "Requirement already satisfied: huggingface_hub>=0.21.0 in /home/sbandi/mamba_envs/sbench/lib/python3.10/site-packages (from accelerate) (0.34.4)\n",
      "Requirement already satisfied: safetensors>=0.4.3 in /home/sbandi/mamba_envs/sbench/lib/python3.10/site-packages (from accelerate) (0.6.2)\n",
      "Requirement already satisfied: filelock in /home/sbandi/mamba_envs/sbench/lib/python3.10/site-packages (from torch>=2.0.0->accelerate) (3.19.1)\n",
      "Requirement already satisfied: typing-extensions>=4.10.0 in /home/sbandi/mamba_envs/sbench/lib/python3.10/site-packages (from torch>=2.0.0->accelerate) (4.14.1)\n",
      "Requirement already satisfied: sympy>=1.13.3 in /home/sbandi/mamba_envs/sbench/lib/python3.10/site-packages (from torch>=2.0.0->accelerate) (1.14.0)\n",
      "Requirement already satisfied: networkx in /home/sbandi/mamba_envs/sbench/lib/python3.10/site-packages (from torch>=2.0.0->accelerate) (3.4.2)\n",
      "Requirement already satisfied: jinja2 in /home/sbandi/mamba_envs/sbench/lib/python3.10/site-packages (from torch>=2.0.0->accelerate) (3.1.6)\n",
      "Requirement already satisfied: fsspec in /home/sbandi/mamba_envs/sbench/lib/python3.10/site-packages (from torch>=2.0.0->accelerate) (2025.3.0)\n",
      "Requirement already satisfied: nvidia-cuda-nvrtc-cu12==12.8.93 in /home/sbandi/mamba_envs/sbench/lib/python3.10/site-packages (from torch>=2.0.0->accelerate) (12.8.93)\n",
      "Requirement already satisfied: nvidia-cuda-runtime-cu12==12.8.90 in /home/sbandi/mamba_envs/sbench/lib/python3.10/site-packages (from torch>=2.0.0->accelerate) (12.8.90)\n",
      "Requirement already satisfied: nvidia-cuda-cupti-cu12==12.8.90 in /home/sbandi/mamba_envs/sbench/lib/python3.10/site-packages (from torch>=2.0.0->accelerate) (12.8.90)\n",
      "Requirement already satisfied: nvidia-cudnn-cu12==9.10.2.21 in /home/sbandi/mamba_envs/sbench/lib/python3.10/site-packages (from torch>=2.0.0->accelerate) (9.10.2.21)\n",
      "Requirement already satisfied: nvidia-cublas-cu12==12.8.4.1 in /home/sbandi/mamba_envs/sbench/lib/python3.10/site-packages (from torch>=2.0.0->accelerate) (12.8.4.1)\n",
      "Requirement already satisfied: nvidia-cufft-cu12==11.3.3.83 in /home/sbandi/mamba_envs/sbench/lib/python3.10/site-packages (from torch>=2.0.0->accelerate) (11.3.3.83)\n",
      "Requirement already satisfied: nvidia-curand-cu12==10.3.9.90 in /home/sbandi/mamba_envs/sbench/lib/python3.10/site-packages (from torch>=2.0.0->accelerate) (10.3.9.90)\n",
      "Requirement already satisfied: nvidia-cusolver-cu12==11.7.3.90 in /home/sbandi/mamba_envs/sbench/lib/python3.10/site-packages (from torch>=2.0.0->accelerate) (11.7.3.90)\n",
      "Requirement already satisfied: nvidia-cusparse-cu12==12.5.8.93 in /home/sbandi/mamba_envs/sbench/lib/python3.10/site-packages (from torch>=2.0.0->accelerate) (12.5.8.93)\n",
      "Requirement already satisfied: nvidia-cusparselt-cu12==0.7.1 in /home/sbandi/mamba_envs/sbench/lib/python3.10/site-packages (from torch>=2.0.0->accelerate) (0.7.1)\n",
      "Requirement already satisfied: nvidia-nccl-cu12==2.27.3 in /home/sbandi/mamba_envs/sbench/lib/python3.10/site-packages (from torch>=2.0.0->accelerate) (2.27.3)\n",
      "Requirement already satisfied: nvidia-nvtx-cu12==12.8.90 in /home/sbandi/mamba_envs/sbench/lib/python3.10/site-packages (from torch>=2.0.0->accelerate) (12.8.90)\n",
      "Requirement already satisfied: nvidia-nvjitlink-cu12==12.8.93 in /home/sbandi/mamba_envs/sbench/lib/python3.10/site-packages (from torch>=2.0.0->accelerate) (12.8.93)\n",
      "Requirement already satisfied: nvidia-cufile-cu12==1.13.1.3 in /home/sbandi/mamba_envs/sbench/lib/python3.10/site-packages (from torch>=2.0.0->accelerate) (1.13.1.3)\n",
      "Requirement already satisfied: triton==3.4.0 in /home/sbandi/mamba_envs/sbench/lib/python3.10/site-packages (from torch>=2.0.0->accelerate) (3.4.0)\n",
      "Requirement already satisfied: setuptools>=40.8.0 in /home/sbandi/mamba_envs/sbench/lib/python3.10/site-packages (from triton==3.4.0->torch>=2.0.0->accelerate) (80.9.0)\n",
      "Requirement already satisfied: requests in /home/sbandi/mamba_envs/sbench/lib/python3.10/site-packages (from huggingface_hub>=0.21.0->accelerate) (2.32.4)\n",
      "Requirement already satisfied: tqdm>=4.42.1 in /home/sbandi/mamba_envs/sbench/lib/python3.10/site-packages (from huggingface_hub>=0.21.0->accelerate) (4.67.1)\n",
      "Requirement already satisfied: hf-xet<2.0.0,>=1.1.3 in /home/sbandi/mamba_envs/sbench/lib/python3.10/site-packages (from huggingface_hub>=0.21.0->accelerate) (1.1.9)\n",
      "Requirement already satisfied: mpmath<1.4,>=1.1.0 in /home/sbandi/mamba_envs/sbench/lib/python3.10/site-packages (from sympy>=1.13.3->torch>=2.0.0->accelerate) (1.3.0)\n",
      "Requirement already satisfied: MarkupSafe>=2.0 in /home/sbandi/mamba_envs/sbench/lib/python3.10/site-packages (from jinja2->torch>=2.0.0->accelerate) (3.0.2)\n",
      "Requirement already satisfied: charset_normalizer<4,>=2 in /home/sbandi/mamba_envs/sbench/lib/python3.10/site-packages (from requests->huggingface_hub>=0.21.0->accelerate) (3.4.2)\n",
      "Requirement already satisfied: idna<4,>=2.5 in /home/sbandi/mamba_envs/sbench/lib/python3.10/site-packages (from requests->huggingface_hub>=0.21.0->accelerate) (3.10)\n",
      "Requirement already satisfied: urllib3<3,>=1.21.1 in /home/sbandi/mamba_envs/sbench/lib/python3.10/site-packages (from requests->huggingface_hub>=0.21.0->accelerate) (2.5.0)\n",
      "Requirement already satisfied: certifi>=2017.4.17 in /home/sbandi/mamba_envs/sbench/lib/python3.10/site-packages (from requests->huggingface_hub>=0.21.0->accelerate) (2025.8.3)\n",
      "Downloading bitsandbytes-0.47.0-py3-none-manylinux_2_24_x86_64.whl (61.3 MB)\n",
      "\u001b[2K   \u001b[90m━━━━━━━━━━━━━━━━━━━━━━━━━━━━━━━━━━━━━━━━\u001b[0m \u001b[32m61.3/61.3 MB\u001b[0m \u001b[31m25.7 MB/s\u001b[0m  \u001b[33m0:00:02\u001b[0mm0:00:01\u001b[0m00:01\u001b[0m\n",
      "\u001b[?25hInstalling collected packages: bitsandbytes\n",
      "Successfully installed bitsandbytes-0.47.0\n"
     ]
    },
    {
     "name": "stderr",
     "output_type": "stream",
     "text": [
      "/home/sbandi/mamba_envs/sbench/lib/python3.10/site-packages/tqdm/auto.py:21: TqdmWarning: IProgress not found. Please update jupyter and ipywidgets. See https://ipywidgets.readthedocs.io/en/stable/user_install.html\n",
      "  from .autonotebook import tqdm as notebook_tqdm\n"
     ]
    }
   ],
   "source": [
    "!pip install accelerate bitsandbytes\n",
    "from transformers import BartForConditionalGeneration, AutoTokenizer\n",
    "\n",
    "tokenizer = AutoTokenizer.from_pretrained(\"facebook/bart-base\", padding_side=\"left\",\n",
    "                                         truncation_side='right')\n",
    "\n",
    "if torch.cuda.is_available():\n",
    "    model = BartForConditionalGeneration.from_pretrained(\"facebook/bart-base\").to(\"cuda\")\n",
    "                                                     # load_in_8bit=True)\n",
    "else:\n",
    "    model = BartForConditionalGeneration.from_pretrained(\"facebook/bart-base\")"
   ]
  },
  {
   "cell_type": "markdown",
   "id": "a1ba73ab",
   "metadata": {
    "papermill": {
     "duration": 0.017202,
     "end_time": "2023-11-28T11:30:44.335089",
     "exception": false,
     "start_time": "2023-11-28T11:30:44.317887",
     "status": "completed"
    },
    "tags": []
   },
   "source": [
    "### For a pytorch model we need a DataLoader so implementing a Dataloader"
   ]
  },
  {
   "cell_type": "code",
   "execution_count": 14,
   "id": "45b03579",
   "metadata": {
    "execution": {
     "iopub.execute_input": "2023-11-28T11:30:44.370267Z",
     "iopub.status.busy": "2023-11-28T11:30:44.369517Z",
     "iopub.status.idle": "2023-11-28T11:30:44.603485Z",
     "shell.execute_reply": "2023-11-28T11:30:44.602607Z"
    },
    "papermill": {
     "duration": 0.254492,
     "end_time": "2023-11-28T11:30:44.606049",
     "exception": false,
     "start_time": "2023-11-28T11:30:44.351557",
     "status": "completed"
    },
    "tags": []
   },
   "outputs": [],
   "source": [
    "class MedicalKeywordDataset(Dataset):\n",
    "    def __init__(self, df, transcript, keywords, tokenizer, in_len, out_len):\n",
    "        self.df = df\n",
    "        self.transcript = transcript\n",
    "        self.keywords = keywords\n",
    "        self.tokenizer = tokenizer\n",
    "        self.in_len = in_len\n",
    "        self.out_len = out_len\n",
    "        \n",
    "    def __len__(self):\n",
    "        return self.df.shape[0]\n",
    "    \n",
    "    def __getitem__(self, idx):\n",
    "        #print(self.df[self.transcript].iloc[idx])\n",
    "        transcript_tokens = self.tokenizer(self.df[self.transcript].iloc[idx],\n",
    "                                          padding='max_length',\n",
    "                                          truncation=True, \n",
    "                                          max_length=self.in_len,\n",
    "                                          return_tensors='pt' \n",
    "                                          )['input_ids']\n",
    "        \n",
    "        keyword_tokens = self.tokenizer(self.df[self.keywords].iloc[idx],\n",
    "                                       padding=\"max_length\", truncation=True,\n",
    "                                       max_length=self.out_len,\n",
    "                                       return_tensors='pt')['input_ids']\n",
    "        \n",
    "        ### Moving the tensors to GPU\n",
    "        if torch.cuda.is_available():\n",
    "            transcript_tokens = transcript_tokens.to(\"cuda\")\n",
    "            keyword_tokens = keyword_tokens.to(\"cuda\")\n",
    "        #print(transcript_tokens)\n",
    "        return transcript_tokens[0,:], keyword_tokens[0,:]\n",
    "    \n",
    "    \n",
    "            \n",
    "        \n",
    "from sklearn.model_selection import train_test_split\n",
    "\n",
    "### Splitting the data to train and test sets\n",
    "df_train, df_test = train_test_split(df_medical, train_size=0.9, random_state=34)\n",
    "\n",
    "        \n",
    "ds_train = MedicalKeywordDataset(df_train,'transcription','keywords',tokenizer,\n",
    "                            750, 100)\n",
    "\n",
    "ds_test = MedicalKeywordDataset(df_test,'transcription','keywords',tokenizer,\n",
    "                            750, 100)\n",
    "\n",
    "\n",
    "### Converting dataset object to dataloader object\n",
    "batch_size = 6\n",
    "\n",
    "### Conversion \n",
    "dl_train = DataLoader(ds_train, batch_size=batch_size, shuffle=True)\n",
    "dl_test = DataLoader(ds_test, batch_size=batch_size, shuffle=True)"
   ]
  },
  {
   "cell_type": "markdown",
   "id": "19858f84",
   "metadata": {
    "papermill": {
     "duration": 0.059589,
     "end_time": "2023-11-28T11:30:44.683083",
     "exception": false,
     "start_time": "2023-11-28T11:30:44.623494",
     "status": "completed"
    },
    "tags": []
   },
   "source": [
    "### Now let us write the train and validation functions"
   ]
  },
  {
   "cell_type": "code",
   "execution_count": 15,
   "id": "0ff305c3",
   "metadata": {
    "execution": {
     "iopub.execute_input": "2023-11-28T11:30:44.717783Z",
     "iopub.status.busy": "2023-11-28T11:30:44.717049Z",
     "iopub.status.idle": "2023-11-28T11:30:44.736164Z",
     "shell.execute_reply": "2023-11-28T11:30:44.735265Z"
    },
    "papermill": {
     "duration": 0.038732,
     "end_time": "2023-11-28T11:30:44.738206",
     "exception": false,
     "start_time": "2023-11-28T11:30:44.699474",
     "status": "completed"
    },
    "tags": []
   },
   "outputs": [],
   "source": [
    "### Optimizer Adam used here\n",
    "optimizer = Adam(model.parameters(),lr=2e-4)\n",
    "\n",
    "### Defining Epochs\n",
    "epochs = 3\n",
    "\n",
    "def num_batches(total, batch_size):\n",
    "    if total % batch_size == 0:\n",
    "        return total // batch_size\n",
    "    else:\n",
    "        return total // batch_size + 1\n",
    "    \n",
    "\n",
    "### Number of batches defined for a dataset\n",
    "train_batches = num_batches(df_train.shape[0],batch_size)\n",
    "test_batches = num_batches(df_test.shape[0],batch_size)\n",
    "\n",
    "\n",
    "### Function to train model\n",
    "def train(data,num_batches, model, optimizer):\n",
    "    model.train()\n",
    "    model_loss = 0\n",
    "    model_acc = 0\n",
    "    i = 0\n",
    "    for tr, kw in data:\n",
    "        optimizer.zero_grad()\n",
    "        #print(kw.shape)\n",
    "        ### Feed forward Pass\n",
    "        out = model(tr, labels=kw)\n",
    "        \n",
    "        ### Loss computation\n",
    "        r_loss = out.loss\n",
    "        model_loss += r_loss.item()\n",
    "        \n",
    "        ### Accuracy Computation\n",
    "        logits = out.logits\n",
    "        preds = torch.softmax(logits,dim=2)\n",
    "        preds = torch.argmax(preds,dim=2)\n",
    "        acc = torch.sum(kw == preds).item()/(kw.shape[0]*kw.shape[1])\n",
    "        model_acc += acc\n",
    "        \n",
    "        ### Backpropogation\n",
    "        r_loss.backward()\n",
    "        optimizer.step()\n",
    "        \n",
    "        i+=1\n",
    "        print(\"[\" + \"=\"*(50*i//num_batches) + \">\" + \n",
    "              \" \"*(50*(1 - i//num_batches))\n",
    "              + \"]\" + f\"loss={model_loss/i} accuracy={model_acc/i}\",\n",
    "              end=\"\\r\")\n",
    "    \n",
    "    print(\"[\" + \"=\"*(50*i//num_batches) + \">\" + \n",
    "              \" \"*(50*(1 - i//num_batches))\n",
    "              + \"]\" + f\"loss={model_loss/i} accuracy={model_acc/i}\",\n",
    "              end=\"\\n\")\n",
    "\n",
    "\n",
    "def test(data,num_batches, model):\n",
    "    model.eval()\n",
    "    model_loss = 0\n",
    "    model_acc = 0\n",
    "    i = 0\n",
    "    for tr, kw in data:\n",
    "        #optimzer.zero_grad()\n",
    "        \n",
    "        ### Feed forward Pass\n",
    "        out = model(tr, labels=kw)\n",
    "        \n",
    "        ### Loss computation\n",
    "        r_loss = out.loss\n",
    "        model_loss += r_loss.item()\n",
    "        \n",
    "        ### Accuracy Computation\n",
    "        logits = out.logits\n",
    "        preds = torch.softmax(logits,dim=2)\n",
    "        preds = torch.argmax(preds,dim=2)\n",
    "        acc = torch.sum(kw == preds).item()/(kw.shape[0]*kw.shape[1])\n",
    "        model_acc += acc\n",
    "        \n",
    "#         ### No Backpropogation as it is evaluation of model\n",
    "#         r_loss.backward()\n",
    "#         optimizer.step()\n",
    "        \n",
    "        i+=1\n",
    "        print(\"[\" + \"=\"*(50*i//num_batches) + \">\" + \n",
    "              \" \"*(50*(1 - i//num_batches))\n",
    "              + \"]\" + f\"loss={model_loss/i} accuracy={model_acc/i}\",\n",
    "              end=\"\\r\")\n",
    "    \n",
    "    print(\"[\" + \"=\"*(50*i//num_batches) + \">\" + \n",
    "              \" \"*(50*(1 - i//num_batches))\n",
    "              + \"]\" + f\"loss={model_loss/i} accuracy={model_acc/i}\",\n",
    "              end=\"\\n\")"
   ]
  },
  {
   "cell_type": "code",
   "execution_count": 16,
   "id": "b2c254c8",
   "metadata": {
    "execution": {
     "iopub.execute_input": "2023-11-28T11:30:44.772972Z",
     "iopub.status.busy": "2023-11-28T11:30:44.772231Z",
     "iopub.status.idle": "2023-11-28T11:51:25.885786Z",
     "shell.execute_reply": "2023-11-28T11:51:25.884650Z"
    },
    "papermill": {
     "duration": 1241.133311,
     "end_time": "2023-11-28T11:51:25.887940",
     "exception": false,
     "start_time": "2023-11-28T11:30:44.754629",
     "status": "completed"
    },
    "tags": []
   },
   "outputs": [
    {
     "name": "stdout",
     "output_type": "stream",
     "text": [
      "[==================================================>]loss=1.2769484724753941 accuracy=0.787836182336182oss=1.2763189801002202 accuracy=0.7878966894977166\n",
      "[==================================================>]loss=0.7825218585821299 accuracy=0.841102564102564oss=0.7818605788052082 accuracy=0.8413541666666665\n",
      "[==================================================>]loss=0.9885334411237994 accuracy=0.8126680911680907ss=0.9884980477086486 accuracy=0.8126426940639265\n",
      "[==================================================>]loss=0.8506276428699493 accuracy=0.8281282051282054ss=0.8526003113947809 accuracy=0.8277343750000002\n",
      "[==================================================>]loss=0.6882684620527121 accuracy=0.8478732193732197ss=0.6886254324488443 accuracy=0.8477968036529684\n",
      "[==================================================>]loss=0.636303191460096 accuracy=0.8567948717948717oss=0.6375432475470006 accuracy=0.8567187499999999\n"
     ]
    }
   ],
   "source": [
    "for e in range(epochs):\n",
    "    train(dl_train,train_batches,model, optimizer)\n",
    "    test(dl_test, test_batches,model)"
   ]
  },
  {
   "cell_type": "code",
   "execution_count": 17,
   "id": "34684271",
   "metadata": {
    "execution": {
     "iopub.execute_input": "2023-11-28T11:51:26.226048Z",
     "iopub.status.busy": "2023-11-28T11:51:26.225319Z",
     "iopub.status.idle": "2023-11-28T11:51:26.237510Z",
     "shell.execute_reply": "2023-11-28T11:51:26.236645Z"
    },
    "papermill": {
     "duration": 0.182765,
     "end_time": "2023-11-28T11:51:26.240003",
     "exception": false,
     "start_time": "2023-11-28T11:51:26.057238",
     "status": "completed"
    },
    "tags": []
   },
   "outputs": [
    {
     "data": {
      "text/html": [
       "<div>\n",
       "<style scoped>\n",
       "    .dataframe tbody tr th:only-of-type {\n",
       "        vertical-align: middle;\n",
       "    }\n",
       "\n",
       "    .dataframe tbody tr th {\n",
       "        vertical-align: top;\n",
       "    }\n",
       "\n",
       "    .dataframe thead th {\n",
       "        text-align: right;\n",
       "    }\n",
       "</style>\n",
       "<table border=\"1\" class=\"dataframe\">\n",
       "  <thead>\n",
       "    <tr style=\"text-align: right;\">\n",
       "      <th></th>\n",
       "      <th>transcription</th>\n",
       "      <th>keywords</th>\n",
       "    </tr>\n",
       "  </thead>\n",
       "  <tbody>\n",
       "    <tr>\n",
       "      <th>0</th>\n",
       "      <td>SUBJECTIVE:,  This 23-year-old white female pr...</td>\n",
       "      <td>allergy / immunology, allergic rhinitis, aller...</td>\n",
       "    </tr>\n",
       "    <tr>\n",
       "      <th>1</th>\n",
       "      <td>PAST MEDICAL HISTORY:, He has difficulty climb...</td>\n",
       "      <td>bariatrics, laparoscopic gastric bypass, weigh...</td>\n",
       "    </tr>\n",
       "    <tr>\n",
       "      <th>2</th>\n",
       "      <td>HISTORY OF PRESENT ILLNESS: , I have seen ABC ...</td>\n",
       "      <td>bariatrics, laparoscopic gastric bypass, heart...</td>\n",
       "    </tr>\n",
       "    <tr>\n",
       "      <th>3</th>\n",
       "      <td>2-D M-MODE: , ,1.  Left atrial enlargement wit...</td>\n",
       "      <td>cardiovascular / pulmonary, 2-d m-mode, dopple...</td>\n",
       "    </tr>\n",
       "    <tr>\n",
       "      <th>4</th>\n",
       "      <td>1.  The left ventricular cavity size and wall ...</td>\n",
       "      <td>cardiovascular / pulmonary, 2-d, doppler, echo...</td>\n",
       "    </tr>\n",
       "    <tr>\n",
       "      <th>...</th>\n",
       "      <td>...</td>\n",
       "      <td>...</td>\n",
       "    </tr>\n",
       "    <tr>\n",
       "      <th>4984</th>\n",
       "      <td>ADMISSION DIAGNOSIS:,  Morbid obesity.  BMI is...</td>\n",
       "      <td>bariatrics, laparoscopic gastric bypass, gastr...</td>\n",
       "    </tr>\n",
       "    <tr>\n",
       "      <th>4985</th>\n",
       "      <td>HISTORY OF PRESENT ILLNESS:,  Ms. A is a 55-ye...</td>\n",
       "      <td>bariatrics, jenny craig, medifast, nutrisystem...</td>\n",
       "    </tr>\n",
       "    <tr>\n",
       "      <th>4989</th>\n",
       "      <td>PAST MEDICAL HISTORY:  ,She had a negative str...</td>\n",
       "      <td>bariatrics, elective surgical weight loss, sur...</td>\n",
       "    </tr>\n",
       "    <tr>\n",
       "      <th>4993</th>\n",
       "      <td>HISTORY:,  A 55-year-old female presents self-...</td>\n",
       "      <td>allergy / immunology, chronic glossitis, xeros...</td>\n",
       "    </tr>\n",
       "    <tr>\n",
       "      <th>4995</th>\n",
       "      <td>ADMITTING DIAGNOSIS: , Kawasaki disease.,DISCH...</td>\n",
       "      <td>allergy / immunology, mucous membranes, conjun...</td>\n",
       "    </tr>\n",
       "  </tbody>\n",
       "</table>\n",
       "<p>3898 rows × 2 columns</p>\n",
       "</div>"
      ],
      "text/plain": [
       "                                          transcription  \\\n",
       "0     SUBJECTIVE:,  This 23-year-old white female pr...   \n",
       "1     PAST MEDICAL HISTORY:, He has difficulty climb...   \n",
       "2     HISTORY OF PRESENT ILLNESS: , I have seen ABC ...   \n",
       "3     2-D M-MODE: , ,1.  Left atrial enlargement wit...   \n",
       "4     1.  The left ventricular cavity size and wall ...   \n",
       "...                                                 ...   \n",
       "4984  ADMISSION DIAGNOSIS:,  Morbid obesity.  BMI is...   \n",
       "4985  HISTORY OF PRESENT ILLNESS:,  Ms. A is a 55-ye...   \n",
       "4989  PAST MEDICAL HISTORY:  ,She had a negative str...   \n",
       "4993  HISTORY:,  A 55-year-old female presents self-...   \n",
       "4995  ADMITTING DIAGNOSIS: , Kawasaki disease.,DISCH...   \n",
       "\n",
       "                                               keywords  \n",
       "0     allergy / immunology, allergic rhinitis, aller...  \n",
       "1     bariatrics, laparoscopic gastric bypass, weigh...  \n",
       "2     bariatrics, laparoscopic gastric bypass, heart...  \n",
       "3     cardiovascular / pulmonary, 2-d m-mode, dopple...  \n",
       "4     cardiovascular / pulmonary, 2-d, doppler, echo...  \n",
       "...                                                 ...  \n",
       "4984  bariatrics, laparoscopic gastric bypass, gastr...  \n",
       "4985  bariatrics, jenny craig, medifast, nutrisystem...  \n",
       "4989  bariatrics, elective surgical weight loss, sur...  \n",
       "4993  allergy / immunology, chronic glossitis, xeros...  \n",
       "4995  allergy / immunology, mucous membranes, conjun...  \n",
       "\n",
       "[3898 rows x 2 columns]"
      ]
     },
     "execution_count": 17,
     "metadata": {},
     "output_type": "execute_result"
    }
   ],
   "source": [
    "df_medical"
   ]
  },
  {
   "cell_type": "markdown",
   "id": "90b322ce",
   "metadata": {
    "papermill": {
     "duration": 0.173254,
     "end_time": "2023-11-28T11:51:26.580995",
     "exception": false,
     "start_time": "2023-11-28T11:51:26.407741",
     "status": "completed"
    },
    "tags": []
   },
   "source": [
    "### Let us compare the predictions from the test data"
   ]
  },
  {
   "cell_type": "code",
   "execution_count": 18,
   "id": "0fcdd3c1",
   "metadata": {
    "execution": {
     "iopub.execute_input": "2023-11-28T11:51:26.948817Z",
     "iopub.status.busy": "2023-11-28T11:51:26.947557Z",
     "iopub.status.idle": "2023-11-28T11:51:26.955645Z",
     "shell.execute_reply": "2023-11-28T11:51:26.954779Z"
    },
    "papermill": {
     "duration": 0.190163,
     "end_time": "2023-11-28T11:51:26.957828",
     "exception": false,
     "start_time": "2023-11-28T11:51:26.767665",
     "status": "completed"
    },
    "tags": []
   },
   "outputs": [],
   "source": [
    "def generate_keywords(df,transcription, model, tokenizer):\n",
    "    df['Result'] = df[transcription].apply(lambda x: tokenizer(x, max_length=750,\n",
    "    padding='max_length', truncation=True, return_tensors='pt')['input_ids'])\n",
    "    if torch.cuda.is_available():\n",
    "        df['Result'] = df['Result'].apply(lambda x: x.to(\"cuda\"))\n",
    "    \n",
    "    df['Result'] = df['Result'].apply(lambda x: model.generate(x,\n",
    "                                                    min_length=20,\n",
    "                                                    max_length=100 ))\n",
    "    df['Result'] = df['Result'].apply(lambda x: tokenizer.batch_decode(x,\n",
    "                                                    skip_special_tokens=True))\n",
    "    return df\n",
    "\n",
    "\n"
   ]
  },
  {
   "cell_type": "code",
   "execution_count": 22,
   "id": "1df4c1f6",
   "metadata": {
    "execution": {
     "iopub.execute_input": "2023-11-28T11:51:27.300550Z",
     "iopub.status.busy": "2023-11-28T11:51:27.300183Z",
     "iopub.status.idle": "2023-11-28T11:58:52.284205Z",
     "shell.execute_reply": "2023-11-28T11:58:52.283366Z"
    },
    "papermill": {
     "duration": 445.15736,
     "end_time": "2023-11-28T11:58:52.286765",
     "exception": false,
     "start_time": "2023-11-28T11:51:27.129405",
     "status": "completed"
    },
    "tags": []
   },
   "outputs": [],
   "source": [
    "df_res = generate_keywords(df_test,'transcription',model,tokenizer)"
   ]
  },
  {
   "cell_type": "code",
   "execution_count": 23,
   "id": "4245de13",
   "metadata": {
    "execution": {
     "iopub.execute_input": "2023-11-28T11:58:52.634095Z",
     "iopub.status.busy": "2023-11-28T11:58:52.633366Z",
     "iopub.status.idle": "2023-11-28T11:58:53.781782Z",
     "shell.execute_reply": "2023-11-28T11:58:53.780898Z"
    },
    "papermill": {
     "duration": 1.3224,
     "end_time": "2023-11-28T11:58:53.783903",
     "exception": false,
     "start_time": "2023-11-28T11:58:52.461503",
     "status": "completed"
    },
    "tags": []
   },
   "outputs": [
    {
     "data": {
      "text/plain": [
       "tensor([[    2,     0,     1,     1,     1,     0,  6673, 27534, 40006,     6,\n",
       "          7843, 12921,   991, 11418,  5000,     6, 41834,  8421,     6, 18592,\n",
       "         35231, 10373, 26574,     6, 34988,  8421,     6,  8421, 18592, 35231,\n",
       "             6,  8421, 46599,     6,    35,    20,  8738, 28584, 38131,  1131,\n",
       "         37118,  7728,   690,     8,  7721,    32,  1286,    30,  1337,  1434,\n",
       "             8,  1322,    13,  5135,  3508,   129,     4,   256,  3732,   523,\n",
       "           642, 18997,   473,    45, 33446,  8611,     8,  1318,     9,  7728,\n",
       "           690,   131,  9226,    74,    28,   528,     7,     5, 12832,     9,\n",
       "             5, 28700,  1295, 11593,     4,   404,  2523,     8,  5461,    33,\n",
       "            57, 37541,    36,   368,  2928,    43,     7,   489, 25643,     2]],\n",
       "       device='cuda:0')"
      ]
     },
     "execution_count": 23,
     "metadata": {},
     "output_type": "execute_result"
    }
   ],
   "source": [
    "model.generate(tokenizer(df_test['transcription'].iloc[0],max_length=750,\n",
    "                        padding=\"max_length\", truncation=True,\n",
    "                        return_tensors='pt')['input_ids'].to('cuda'),max_length=100)"
   ]
  },
  {
   "cell_type": "code",
   "execution_count": 24,
   "id": "6f57d235",
   "metadata": {
    "execution": {
     "iopub.execute_input": "2023-11-28T11:58:54.123221Z",
     "iopub.status.busy": "2023-11-28T11:58:54.122522Z",
     "iopub.status.idle": "2023-11-28T11:58:54.132294Z",
     "shell.execute_reply": "2023-11-28T11:58:54.131454Z"
    },
    "papermill": {
     "duration": 0.180612,
     "end_time": "2023-11-28T11:58:54.134171",
     "exception": false,
     "start_time": "2023-11-28T11:58:53.953559",
     "status": "completed"
    },
    "tags": []
   },
   "outputs": [
    {
     "data": {
      "text/plain": [
       "{'input_ids': [0, 47217, 3850, 3243, 39658, 6034, 35, 2156, 4129, 12921, 991, 11418, 5000, 19, 41834, 8421, 18592, 35231, 10373, 26574, 11, 5, 235, 2295, 482, 13796, 2371, 6034, 5089, 31987, 534, 22570, 35, 2156, 20, 3186, 16, 10, 974, 12, 180, 12, 279, 2943, 54, 5232, 41, 490, 7183, 1356, 25, 10, 920, 4, 1437, 91, 8960, 2226, 10, 5494, 6204, 36119, 11, 4013, 8, 122, 34, 35453, 681, 11, 5, 34988, 8421, 9, 5, 235, 2295, 25, 157, 25, 10, 19790, 4758, 271, 7257, 4, 1437, 91, 16, 11793, 35453, 681, 7129, 25, 157, 25, 36099, 4758, 271, 7257, 23226, 19, 10373, 26574, 11, 5, 235, 2295, 482, 43869, 5733, 211, 2889, 17567, 3196, 1729, 46686, 134, 4, 1437, 7298, 9, 490, 7183, 7, 5, 235, 2295, 482, 176, 4, 1437, 7298, 9, 5494, 6204, 36119, 2194, 618, 5989, 11, 5, 235, 2295, 482, 246, 4, 1437, 8897, 44327, 681, 11, 34988, 8421, 482, 306, 4, 1437, 211, 9401, 35453, 681, 4758, 271, 7257, 11, 5, 235, 2295, 33718, 5206, 5, 1217, 9, 5, 41834, 9438, 482, 47060, 5733, 211, 2889, 17567, 3196, 1729, 46686, 134, 4, 1437, 7298, 9, 490, 7183, 7, 5, 235, 2295, 482, 176, 4, 1437, 7298, 9, 5494, 6204, 36119, 2194, 618, 5989, 11, 5, 235, 2295, 482, 246, 4, 1437, 8897, 44327, 681, 11, 34988, 8421, 482, 306, 4, 1437, 211, 9401, 35453, 681, 4758, 271, 7257, 11, 5, 235, 2295, 33718, 5206, 5, 1217, 9, 5, 41834, 9438, 482, 1889, 1723, 3732, 1723, 2889, 35, 2156, 1292, 482, 4454, 3196, 5885, 846, 9206, 7205, 11088, 35, 2156, 3943, 22672, 41834, 8421, 18592, 35231, 10373, 6, 733, 4, 288, 2269, 1517, 2696, 6, 13603, 346, 17072, 34781, 482, 487, 26952, 39869, 35, 2156, 96, 10312, 7132, 21, 4756, 4, 1437, 404, 1142, 58, 7173, 4, 1437, 20, 3186, 21, 1146, 7, 1198, 23655, 1826, 443, 147, 5, 27133, 235, 2295, 21, 4760, 4, 1437, 91, 21, 1146, 7, 5, 1633, 929, 8, 2325, 11, 5, 28836, 833, 737, 4, 1437, 381, 530, 534, 3315, 58, 2325, 4, 1437, 1292, 40687, 21, 26914, 30, 5, 40687, 544, 4, 1437, 83, 86, 12, 995, 21, 373, 7, 4559, 5, 7089, 8, 27133, 2295, 4, 1437, 20, 235, 27133, 2295, 21, 35258, 196, 8, 30307, 11, 10, 2526, 2734, 13, 2295, 3012, 4, 1437, 83, 13431, 12002, 28712, 21, 2325, 4, 1437, 20, 14306, 241, 13477, 6204, 165, 2325, 5, 29016, 36541, 5571, 71, 4655, 10, 228, 405, 13604, 4, 1437, 497, 42, 477, 11, 5, 403, 6, 5, 3186, 21, 1224, 81, 7, 5, 9240, 22423, 544, 19, 3801, 4, 6752, 4, 1437, 83, 2242, 20936, 25960, 21, 156, 23, 5, 2219, 155, 1021, 108, 17036, 737, 4, 1437, 42064, 261, 21, 2325, 88, 5, 34988, 8421, 4, 1437, 20, 11720, 34831, 415, 4399, 21, 341, 7, 146, 10, 12194, 27071, 5853, 10699, 95, 1025, 5, 11369, 18924, 23, 5, 13955, 12, 5743, 31799, 4, 1437, 152, 5853, 10699, 21, 172, 26282, 5202, 34988, 352, 8, 341, 7, 2914, 5, 34988, 8421, 4, 1437, 20, 121, 4328, 2186, 1370, 3275, 58, 341, 7, 1498, 10, 11152, 18629, 9686, 922, 33085, 43726, 354, 71, 5853, 10699, 9, 5, 23143, 19, 5, 19258, 620, 1242, 4399, 4, 1437, 19019, 7779, 22580, 21, 3744, 4, 1437, 20, 10373, 38531, 21, 2928, 634, 7843, 12921, 991, 11418, 5000, 8, 20500, 8, 34102, 4, 1437, 32926, 40715, 67, 21, 2928, 634, 20500, 8, 34102, 4, 1437, 468, 15069, 523, 11599, 21, 2325, 7, 4047, 19593, 5, 9686, 8244, 43466, 4, 1437, 20, 11720, 7023, 21, 341, 7, 22368, 5, 7843, 12921, 5853, 10699, 4, 1437, 7299, 763, 35231, 10373, 21, 3919, 31, 1198, 23655, 11840, 6, 2325, 11, 5, 17951, 368, 467, 6, 8, 24557, 88, 5, 23143, 396, 9600, 4, 1437, 20, 12564, 2489, 24617, 21, 2325, 634, 5, 264, 2580, 1370, 3275, 8, 5, 1731, 763, 18756, 9808, 7, 1920, 5, 38, 3384, 36377, 41834, 352, 25, 5, 12564, 2489, 24617, 21, 2325, 4, 1437, 20, 34988, 9240, 22423, 7725, 21, 579, 1182, 4075, 552, 19, 5, 2242, 20936, 25960, 71, 20500, 8, 34102, 21, 3744, 7, 3438, 2405, 17737, 876, 523, 11599, 31, 5, 34988, 8421, 4, 1437, 152, 21, 626, 396, 9600, 4, 1437, 20, 34988, 8421, 21, 5288, 8, 514, 27752, 23, 5, 253, 9, 5, 7089, 4, 1437, 7299, 763, 35231, 1164, 21, 28173, 4, 1437, 20, 3186, 22639, 5, 7089, 157, 8, 172, 21, 1224, 81, 7, 5, 41035, 544, 11, 205, 2], 'attention_mask': [1, 1, 1, 1, 1, 1, 1, 1, 1, 1, 1, 1, 1, 1, 1, 1, 1, 1, 1, 1, 1, 1, 1, 1, 1, 1, 1, 1, 1, 1, 1, 1, 1, 1, 1, 1, 1, 1, 1, 1, 1, 1, 1, 1, 1, 1, 1, 1, 1, 1, 1, 1, 1, 1, 1, 1, 1, 1, 1, 1, 1, 1, 1, 1, 1, 1, 1, 1, 1, 1, 1, 1, 1, 1, 1, 1, 1, 1, 1, 1, 1, 1, 1, 1, 1, 1, 1, 1, 1, 1, 1, 1, 1, 1, 1, 1, 1, 1, 1, 1, 1, 1, 1, 1, 1, 1, 1, 1, 1, 1, 1, 1, 1, 1, 1, 1, 1, 1, 1, 1, 1, 1, 1, 1, 1, 1, 1, 1, 1, 1, 1, 1, 1, 1, 1, 1, 1, 1, 1, 1, 1, 1, 1, 1, 1, 1, 1, 1, 1, 1, 1, 1, 1, 1, 1, 1, 1, 1, 1, 1, 1, 1, 1, 1, 1, 1, 1, 1, 1, 1, 1, 1, 1, 1, 1, 1, 1, 1, 1, 1, 1, 1, 1, 1, 1, 1, 1, 1, 1, 1, 1, 1, 1, 1, 1, 1, 1, 1, 1, 1, 1, 1, 1, 1, 1, 1, 1, 1, 1, 1, 1, 1, 1, 1, 1, 1, 1, 1, 1, 1, 1, 1, 1, 1, 1, 1, 1, 1, 1, 1, 1, 1, 1, 1, 1, 1, 1, 1, 1, 1, 1, 1, 1, 1, 1, 1, 1, 1, 1, 1, 1, 1, 1, 1, 1, 1, 1, 1, 1, 1, 1, 1, 1, 1, 1, 1, 1, 1, 1, 1, 1, 1, 1, 1, 1, 1, 1, 1, 1, 1, 1, 1, 1, 1, 1, 1, 1, 1, 1, 1, 1, 1, 1, 1, 1, 1, 1, 1, 1, 1, 1, 1, 1, 1, 1, 1, 1, 1, 1, 1, 1, 1, 1, 1, 1, 1, 1, 1, 1, 1, 1, 1, 1, 1, 1, 1, 1, 1, 1, 1, 1, 1, 1, 1, 1, 1, 1, 1, 1, 1, 1, 1, 1, 1, 1, 1, 1, 1, 1, 1, 1, 1, 1, 1, 1, 1, 1, 1, 1, 1, 1, 1, 1, 1, 1, 1, 1, 1, 1, 1, 1, 1, 1, 1, 1, 1, 1, 1, 1, 1, 1, 1, 1, 1, 1, 1, 1, 1, 1, 1, 1, 1, 1, 1, 1, 1, 1, 1, 1, 1, 1, 1, 1, 1, 1, 1, 1, 1, 1, 1, 1, 1, 1, 1, 1, 1, 1, 1, 1, 1, 1, 1, 1, 1, 1, 1, 1, 1, 1, 1, 1, 1, 1, 1, 1, 1, 1, 1, 1, 1, 1, 1, 1, 1, 1, 1, 1, 1, 1, 1, 1, 1, 1, 1, 1, 1, 1, 1, 1, 1, 1, 1, 1, 1, 1, 1, 1, 1, 1, 1, 1, 1, 1, 1, 1, 1, 1, 1, 1, 1, 1, 1, 1, 1, 1, 1, 1, 1, 1, 1, 1, 1, 1, 1, 1, 1, 1, 1, 1, 1, 1, 1, 1, 1, 1, 1, 1, 1, 1, 1, 1, 1, 1, 1, 1, 1, 1, 1, 1, 1, 1, 1, 1, 1, 1, 1, 1, 1, 1, 1, 1, 1, 1, 1, 1, 1, 1, 1, 1, 1, 1, 1, 1, 1, 1, 1, 1, 1, 1, 1, 1, 1, 1, 1, 1, 1, 1, 1, 1, 1, 1, 1, 1, 1, 1, 1, 1, 1, 1, 1, 1, 1, 1, 1, 1, 1, 1, 1, 1, 1, 1, 1, 1, 1, 1, 1, 1, 1, 1, 1, 1, 1, 1, 1, 1, 1, 1, 1, 1, 1, 1, 1, 1, 1, 1, 1, 1, 1, 1, 1, 1, 1, 1, 1, 1, 1, 1, 1, 1, 1, 1, 1, 1, 1, 1, 1, 1, 1, 1, 1, 1, 1, 1, 1, 1, 1, 1, 1, 1, 1, 1, 1, 1, 1, 1, 1, 1, 1, 1, 1, 1, 1, 1, 1, 1, 1, 1, 1, 1, 1, 1, 1, 1, 1, 1, 1, 1, 1, 1, 1, 1, 1, 1, 1, 1, 1, 1, 1, 1, 1, 1, 1, 1, 1, 1, 1, 1, 1, 1, 1, 1, 1, 1, 1, 1, 1, 1, 1, 1, 1, 1, 1, 1, 1, 1, 1, 1, 1, 1, 1, 1, 1, 1, 1, 1, 1, 1, 1, 1, 1, 1, 1, 1, 1, 1, 1, 1, 1, 1, 1, 1, 1, 1, 1, 1, 1, 1, 1, 1, 1, 1, 1, 1, 1, 1, 1, 1, 1, 1, 1]}"
      ]
     },
     "execution_count": 24,
     "metadata": {},
     "output_type": "execute_result"
    }
   ],
   "source": [
    "tokenizer(df_test['transcription'].iloc[0],max_length=750,\n",
    "                        padding=\"max_length\", truncation=True)"
   ]
  },
  {
   "cell_type": "code",
   "execution_count": 25,
   "id": "cec9a475",
   "metadata": {
    "execution": {
     "iopub.execute_input": "2023-11-28T11:58:54.492963Z",
     "iopub.status.busy": "2023-11-28T11:58:54.492558Z",
     "iopub.status.idle": "2023-11-28T11:58:54.498363Z",
     "shell.execute_reply": "2023-11-28T11:58:54.497258Z"
    },
    "papermill": {
     "duration": 0.197636,
     "end_time": "2023-11-28T11:58:54.500323",
     "exception": false,
     "start_time": "2023-11-28T11:58:54.302687",
     "status": "completed"
    },
    "tags": []
   },
   "outputs": [],
   "source": [
    "df_res['Result'] = df_res['Result'].apply(lambda x: x[0])"
   ]
  },
  {
   "cell_type": "code",
   "execution_count": 26,
   "id": "1429d6b5",
   "metadata": {
    "execution": {
     "iopub.execute_input": "2023-11-28T11:58:54.863397Z",
     "iopub.status.busy": "2023-11-28T11:58:54.863022Z",
     "iopub.status.idle": "2023-11-28T11:58:54.868788Z",
     "shell.execute_reply": "2023-11-28T11:58:54.867911Z"
    },
    "papermill": {
     "duration": 0.195298,
     "end_time": "2023-11-28T11:58:54.871302",
     "exception": false,
     "start_time": "2023-11-28T11:58:54.676004",
     "status": "completed"
    },
    "tags": []
   },
   "outputs": [
    {
     "name": "stdout",
     "output_type": "stream",
     "text": [
      "surgery, phacoemulsification, intraocular lens implant, posterior chamber, chamber, eye, intraocular, lens,\n",
      "ophthalmology, phacoemulsification, posterior chamber, intraocular lens implant, anterior chamber, chamber intraocular, chamberNOTE,: Thesetranscribed medical transcription sample reports and examples are provided by various users andare for reference purpose only. MTHelpLine does not certify accuracy and quality of sample reports;this would be due to the preference of the dictating physician. All names and dates have beenchanged (or removed) to keep confidentiality\n"
     ]
    }
   ],
   "source": [
    "print(df_res['keywords'].iloc[0])\n",
    "print(df_res['Result'].iloc[0])"
   ]
  },
  {
   "cell_type": "code",
   "execution_count": 27,
   "id": "e35dbe29",
   "metadata": {
    "execution": {
     "iopub.execute_input": "2023-11-28T11:58:55.230867Z",
     "iopub.status.busy": "2023-11-28T11:58:55.230466Z",
     "iopub.status.idle": "2023-11-28T11:58:55.244638Z",
     "shell.execute_reply": "2023-11-28T11:58:55.243540Z"
    },
    "papermill": {
     "duration": 0.195432,
     "end_time": "2023-11-28T11:58:55.247222",
     "exception": false,
     "start_time": "2023-11-28T11:58:55.051790",
     "status": "completed"
    },
    "tags": []
   },
   "outputs": [
    {
     "data": {
      "text/html": [
       "<div>\n",
       "<style scoped>\n",
       "    .dataframe tbody tr th:only-of-type {\n",
       "        vertical-align: middle;\n",
       "    }\n",
       "\n",
       "    .dataframe tbody tr th {\n",
       "        vertical-align: top;\n",
       "    }\n",
       "\n",
       "    .dataframe thead th {\n",
       "        text-align: right;\n",
       "    }\n",
       "</style>\n",
       "<table border=\"1\" class=\"dataframe\">\n",
       "  <thead>\n",
       "    <tr style=\"text-align: right;\">\n",
       "      <th></th>\n",
       "      <th>transcription</th>\n",
       "      <th>keywords</th>\n",
       "      <th>Result</th>\n",
       "    </tr>\n",
       "  </thead>\n",
       "  <tbody>\n",
       "    <tr>\n",
       "      <th>436</th>\n",
       "      <td>TITLE OF OPERATION: , Phacoemulsification with...</td>\n",
       "      <td>surgery, phacoemulsification, intraocular lens...</td>\n",
       "      <td>ophthalmology, phacoemulsification, posterior ...</td>\n",
       "    </tr>\n",
       "    <tr>\n",
       "      <th>2584</th>\n",
       "      <td>PROCEDURE: , Laparoscopy with ablation of endo...</td>\n",
       "      <td>obstetrics / gynecology, ablation of endometri...</td>\n",
       "      <td>surgery, endometriosis, ablation, laparoscopy ...</td>\n",
       "    </tr>\n",
       "    <tr>\n",
       "      <th>2486</th>\n",
       "      <td>CHILD PHYSICAL EXAMINATION,VITAL SIGNS:  Birth...</td>\n",
       "      <td>office notes, child physical examination, phys...</td>\n",
       "      <td>pediatrics - neonatal, child physical examinat...</td>\n",
       "    </tr>\n",
       "    <tr>\n",
       "      <th>1112</th>\n",
       "      <td>PREOPERATIVE DIAGNOSES:,1.  Ischemic cardiomyo...</td>\n",
       "      <td>surgery, cardiomyopathy, ioban, ischemic, isch...</td>\n",
       "      <td>cardiovascular / pulmonary, amchemic cardiomyo...</td>\n",
       "    </tr>\n",
       "    <tr>\n",
       "      <th>1630</th>\n",
       "      <td>EXAM: , Five views of the right knee.,HISTORY:...</td>\n",
       "      <td>radiology, fractures dislocations or subluxati...</td>\n",
       "      <td>orthopedic, femur and proximal tibia, growth a...</td>\n",
       "    </tr>\n",
       "    <tr>\n",
       "      <th>...</th>\n",
       "      <td>...</td>\n",
       "      <td>...</td>\n",
       "      <td>...</td>\n",
       "    </tr>\n",
       "    <tr>\n",
       "      <th>495</th>\n",
       "      <td>PREOPERATIVE DIAGNOSES:,1.  Displaced intraart...</td>\n",
       "      <td>surgery, intraarticular fracture, esmarch, k-w...</td>\n",
       "      <td>orthopedic, intraarticular fracture, distal ra...</td>\n",
       "    </tr>\n",
       "    <tr>\n",
       "      <th>189</th>\n",
       "      <td>PREOPERATIVE DIAGNOSES: , Epiretinal membrane,...</td>\n",
       "      <td>surgery, epiretinal membrane, pars plana vitre...</td>\n",
       "      <td>ophthalmology, epiretinal membrane, intraocula...</td>\n",
       "    </tr>\n",
       "    <tr>\n",
       "      <th>1756</th>\n",
       "      <td>DESCRIPTION:,1.  Normal cardiac chambers size....</td>\n",
       "      <td>radiology, ejection fraction, lv systolic func...</td>\n",
       "      <td>cardiovascular / pulmonary, lv systolic functi...</td>\n",
       "    </tr>\n",
       "    <tr>\n",
       "      <th>4227</th>\n",
       "      <td>VITAL SIGNS:,  Reveal a blood pressure of *, t...</td>\n",
       "      <td>consult - history and phy., jugular venous dis...</td>\n",
       "      <td>consult - history and phy., g Glasgow Coma sca...</td>\n",
       "    </tr>\n",
       "    <tr>\n",
       "      <th>343</th>\n",
       "      <td>PREOPERATIVE DIAGNOSIS:,  Right renal stone.,P...</td>\n",
       "      <td>surgery, renal stone, stent removal, upj stone...</td>\n",
       "      <td>nephrology, shockwave lithotripsy, cystoscopy,...</td>\n",
       "    </tr>\n",
       "  </tbody>\n",
       "</table>\n",
       "<p>390 rows × 3 columns</p>\n",
       "</div>"
      ],
      "text/plain": [
       "                                          transcription  \\\n",
       "436   TITLE OF OPERATION: , Phacoemulsification with...   \n",
       "2584  PROCEDURE: , Laparoscopy with ablation of endo...   \n",
       "2486  CHILD PHYSICAL EXAMINATION,VITAL SIGNS:  Birth...   \n",
       "1112  PREOPERATIVE DIAGNOSES:,1.  Ischemic cardiomyo...   \n",
       "1630  EXAM: , Five views of the right knee.,HISTORY:...   \n",
       "...                                                 ...   \n",
       "495   PREOPERATIVE DIAGNOSES:,1.  Displaced intraart...   \n",
       "189   PREOPERATIVE DIAGNOSES: , Epiretinal membrane,...   \n",
       "1756  DESCRIPTION:,1.  Normal cardiac chambers size....   \n",
       "4227  VITAL SIGNS:,  Reveal a blood pressure of *, t...   \n",
       "343   PREOPERATIVE DIAGNOSIS:,  Right renal stone.,P...   \n",
       "\n",
       "                                               keywords  \\\n",
       "436   surgery, phacoemulsification, intraocular lens...   \n",
       "2584  obstetrics / gynecology, ablation of endometri...   \n",
       "2486  office notes, child physical examination, phys...   \n",
       "1112  surgery, cardiomyopathy, ioban, ischemic, isch...   \n",
       "1630  radiology, fractures dislocations or subluxati...   \n",
       "...                                                 ...   \n",
       "495   surgery, intraarticular fracture, esmarch, k-w...   \n",
       "189   surgery, epiretinal membrane, pars plana vitre...   \n",
       "1756  radiology, ejection fraction, lv systolic func...   \n",
       "4227  consult - history and phy., jugular venous dis...   \n",
       "343   surgery, renal stone, stent removal, upj stone...   \n",
       "\n",
       "                                                 Result  \n",
       "436   ophthalmology, phacoemulsification, posterior ...  \n",
       "2584  surgery, endometriosis, ablation, laparoscopy ...  \n",
       "2486  pediatrics - neonatal, child physical examinat...  \n",
       "1112  cardiovascular / pulmonary, amchemic cardiomyo...  \n",
       "1630  orthopedic, femur and proximal tibia, growth a...  \n",
       "...                                                 ...  \n",
       "495   orthopedic, intraarticular fracture, distal ra...  \n",
       "189   ophthalmology, epiretinal membrane, intraocula...  \n",
       "1756  cardiovascular / pulmonary, lv systolic functi...  \n",
       "4227  consult - history and phy., g Glasgow Coma sca...  \n",
       "343   nephrology, shockwave lithotripsy, cystoscopy,...  \n",
       "\n",
       "[390 rows x 3 columns]"
      ]
     },
     "execution_count": 27,
     "metadata": {},
     "output_type": "execute_result"
    }
   ],
   "source": [
    "df_res"
   ]
  },
  {
   "cell_type": "markdown",
   "id": "12952984",
   "metadata": {
    "papermill": {
     "duration": 0.226206,
     "end_time": "2023-11-28T11:58:55.656767",
     "exception": false,
     "start_time": "2023-11-28T11:58:55.430561",
     "status": "completed"
    },
    "tags": []
   },
   "source": [
    "### Looking at top 5"
   ]
  },
  {
   "cell_type": "code",
   "execution_count": 28,
   "id": "c624c51c",
   "metadata": {
    "execution": {
     "iopub.execute_input": "2023-11-28T11:58:56.019199Z",
     "iopub.status.busy": "2023-11-28T11:58:56.018268Z",
     "iopub.status.idle": "2023-11-28T11:58:56.026541Z",
     "shell.execute_reply": "2023-11-28T11:58:56.025627Z"
    },
    "papermill": {
     "duration": 0.19436,
     "end_time": "2023-11-28T11:58:56.029006",
     "exception": false,
     "start_time": "2023-11-28T11:58:55.834646",
     "status": "completed"
    },
    "tags": []
   },
   "outputs": [
    {
     "name": "stdout",
     "output_type": "stream",
     "text": [
      "-----------------Row no 1------------------\n",
      "Transcription:\n",
      "TITLE OF OPERATION: , Phacoemulsification with posterior chamber intraocular lens implant in the right eye.,INDICATION FOR SURGERY: , The patient is a 27-year-old male who sustained an open globe injury as a child.  He subsequently developed a retinal detachment in 2005 and now has silicone oil in the anterior chamber of the right eye as well as a dense cataract.  He is undergoing silicone oil removal as well as concurrent cataract extraction with lens implant in the right eye.,PREOP DIAGNOSIS:,1.  History of open globe to the right eye.,2.  History of retinal detachment status post repair in the right eye.,3.  Silicone oil in anterior chamber.,4.  Dense silicone oil cataract in the right eye obscuring the view of the posterior pole.,POSTOP DIAGNOSIS:,1.  History of open globe to the right eye.,2.  History of retinal detachment status post repair in the right eye.,3.  Silicone oil in anterior chamber.,4.  Dense silicone oil cataract in the right eye obscuring the view of the posterior pole.,ANESTHESIA: , General.,PROS DEV IMPLANT: , ABC Laboratories posterior chamber intraocular lens, 21.0 diopters, serial number 123456.,NARRATIVE: , Informed consent was obtained.  All questions were answered.  The patient was brought to preoperative holding area where the operative right eye was marked.  He was brought to the operating room and placed in the supine position.  EKG leads were placed.  General anesthesia was induced by the anesthesia service.  A time-out was called to confirm the procedure and operative eye.  The right operative eye was disinfected and draped in a standard fashion for eye surgery.  A lid speculum was placed.  The vitreoretinal team placed the infusion cannula after performing a peritomy.  At this point in the case, the patient was turned over to the cornea service with Mrs. Jun.  A paracentesis was made at the approximately 3 o'clock position.  Healon was placed into the anterior chamber.  The diamond keratome was used to make a vertical groove incision just inside the limbus at the 108-degree axis.  This incision was then shelved anteriorly and used to enter the anterior chamber.  The Utrata forceps were used to complete a continuous circular capsulorrhexis after incision of the capsule with the cystotome.  Hydrodissection was performed.  The lens nucleus was removed using phacoemulsification and irrigation and aspiration.  Lens cortex also was removed using irrigation and aspiration.  Viscoelastic was placed to inflate the capsular remnant.  The diamond knife was used to enlarge the phaco incision.  Intraocular lens was selected from preoperative calculations, placed in the injector system, and inserted into the capsule without difficulty.  The trailing haptic was placed using the Sheets forceps and the Barraquer sweep to push the IOL optic posteriorly as the trailing haptic was placed.  The anterior cornea wound was sutured along with the paracentesis after irrigation and aspiration was performed to remove remaining viscoelastic from the anterior chamber.  This was done without difficulty.  The anterior chamber was secured and watertight at the end of the procedure.  Intraocular pressure was satisfactory.  The patient tolerated the procedure well and then was turned over to the retina service in good condition.  They will dictate a separate note.\n",
      "\n",
      "\n",
      "Keywords:\n",
      "surgery, phacoemulsification, intraocular lens implant, posterior chamber, chamber, eye, intraocular, lens,\n",
      "\n",
      "\n",
      "Result:\n",
      "ophthalmology, phacoemulsification, posterior chamber, intraocular lens implant, anterior chamber, chamber intraocular, chamberNOTE,: Thesetranscribed medical transcription sample reports and examples are provided by various users andare for reference purpose only. MTHelpLine does not certify accuracy and quality of sample reports;this would be due to the preference of the dictating physician. All names and dates have beenchanged (or removed) to keep confidentiality\n",
      "\n",
      "\n",
      "\n",
      "\n",
      "-----------------Row no 2------------------\n",
      "Transcription:\n",
      "PROCEDURE: , Laparoscopy with ablation of endometriosis.,DIAGNOSIS: , Endometriosis.,ANESTHESIA:,  General.,ESTIMATED BLOOD LOSS: , None.,FINDINGS: , Allen-Masters window in the upper left portion of the cul-de-sac, bronze lesions of endometriosis in the central portion of the cul-de-sac as well as both the left uterosacral ligament, flame lesions of the right uterosacral ligament approximately 5 mL of blood tinged fluid in the cul-de-sac.  Normal tubes and ovaries, normal gallbladder, smooth liver edge.,PROCEDURE:  ,The patient was taken to the operating room and placed under general anesthesia.  She was put in the dorsal lithotomy position, and the perineum and abdomen were prepped and draped in a sterile manner.  Subumbilical area was injected with Marcaine, and a Veress needle was placed subumbilically through which approximately 2 L of CO2 were inflated.  Scalpel was used to make a subumbilical incision through which a 5-mm trocar was placed.  Laparoscope was inserted through the cannula and the pelvis was visualized.  Under direct visualization, two 5-mm trocars were placed in the right and left suprapubic midline.  Incision sites were transilluminated and injected with Marcaine prior to cutting.  Hulka manipulator was placed on the cervix.  Pelvis was inspected and blood tinged fluid was aspirated from the cul-de-sac.  The beginnings of an Allen-Masters window in the left side of the cul-de-sac were visualized along with bronze lesions of endometriosis.  Some more lesions were noted above the left uterosacral ligament.  Flame lesions were noted above the right uterosacral ligament.  Tubes and ovaries were normal bilaterally with the presence of a few small paratubal cysts on the left tube.  There was a somewhat leathery appearance to the ovaries.  The lesions of endometriosis were ablated with the argon beam coagulator, as was a region of the Allen-Masters window.  Pelvis was irrigated and all operative sites were hemostatic.  No other abnormalities were visualized and all instruments were moved under direct visualization.  Approximately 200 mL of fluid remained in the abdominal cavity.  All counts were correct and the skin incisions were closed with 2-0 Vicryl after all CO2 was allowed to escape.  The patient was taken to the recovery in stable condition.\n",
      "\n",
      "\n",
      "Keywords:\n",
      "obstetrics / gynecology, ablation of endometriosis, allen-masters window, uterosacral ligament, endometriosis, cul de sac, laparoscopy, lesions, ablation\n",
      "\n",
      "\n",
      "Result:\n",
      "surgery, endometriosis, ablation, laparoscopy with ablation of endometrialosis, cul-de-sac, cul de sac, enderosacral ligament, culde-de sac, uterosacra ligament and ovaries, endosacral, cul De sac, ligament was advanced, endocritosis, endostriosis endometroosis, uteroacral cartilage, cul\n",
      "\n",
      "\n",
      "\n",
      "\n",
      "-----------------Row no 3------------------\n",
      "Transcription:\n",
      "CHILD PHYSICAL EXAMINATION,VITAL SIGNS:  Birth weight is ** grams, length **, occipitofrontal circumference **.  Character of cry was lusty.,GENERAL APPEARANCE:  Well.,BREATHING:  Unlabored.,SKIN:  Clear.  No cyanosis, pallor, or icterus.  Subcutaneous tissue is ample.,HEAD:  Normal.  Fontanelles are soft and flat.  Sutures are opposed.,EYES:  Normal with red reflex x2.,EARS:  Patent.  Normal pinnae, canals, TMs.,NOSE:  Patent nares.,MOUTH:  No cleft.,THROAT:  Clear.,NECK:  No masses.,CHEST:  Normal clavicles.,LUNGS:  Clear bilaterally.,HEART:  Regular rate and rhythm without murmur.,ABDOMEN:  Soft, flat.  No hepatosplenomegaly.  The cord is three vessel.,GENITALIA:  Normal ** genitalia **with testes descended bilaterally.,ANUS:  Patent.,SPINE:  Straight and without deformity.,EXTREMITIES:  Equal movements.,MUSCLE TONE:  Good.,REFLEXES:  Moro, grasp, and suck are normal.,HIPS:  No click or clunk.\n",
      "\n",
      "\n",
      "Keywords:\n",
      "office notes, child physical examination, physical, genitalia, child, \n",
      "\n",
      "\n",
      "Result:\n",
      "pediatrics - neonatal, child physical examination, physical exam, physical, genitalia, childNOTE,: MTHelpLine does not certify accuracy and quality of sample reports.These transcribed medical transcription sample reports may include some uncommon or unusual formats;this would be due to the preference of the dictating physician. All names and dates have beenchanged (or removed) to keep confidentiality. Any resemblance of magendie, normal clavicles, physical\n",
      "\n",
      "\n",
      "\n",
      "\n",
      "-----------------Row no 4------------------\n",
      "Transcription:\n",
      "PREOPERATIVE DIAGNOSES:,1.  Ischemic cardiomyopathy.,2.  Status post redo coronary artery bypass.,3.  Status post insertion of intraaortic balloon.,POSTOPERATIVE DIAGNOSES:,1.  Ischemic cardiomyopathy.,2.  Status post redo coronary artery bypass.,3.  Status post insertion of intraaortic balloon.,4.  Postoperative coagulopathy.,OPERATIVE PROCEDURE:,1.  Orthostatic cardiac allograft transplantation utilizing total cardiopulmonary bypass.,2.  Open sternotomy covered with Ioban.,3.  Insertion of Mahurkar catheter for hemofiltration via the left common femoral vein.,ANESTHESIA: , General endotracheal.,OPERATIVE PROCEDURE: , With the patient in the supine position, he was prepped from shin to knees and draped in a sterile field.  A right common femoral artery vein were then exposed through a longitudinal incision in the right groin and prepared for cardiopulmonary bypass.  A sternotomy incision was then opened and the lesions from the previous operative procedures were lysed and they were very dense and firm, freeing up the right atrium and the ascending aorta and anterior right ventricle.  The patient was heparinized and then a pursestring suture was placed in the right atrium superior and inferior just above the superior and inferior vena cava.  A percutaneous catheter for arterial return was placed using Seldinger technique through exposed right femoral artery and then two 3-mm catheters were inserted with two pursestring sutures in the right atrium just superior to inferior vena cava.  After satisfactory heparinization has been obtained, the patient was placed on cardiopulmonary bypass and another pursestring suture was placed in the right superior pulmonary vein and a catheter was placed for suction in the left atrium.  After the heart was brought to the operating room and triggered, the patient had the ascending aorta clamped and tapes were placed around superior and inferior vena cava and were secured in place.  A cardiectomy was then performed by starting in the right atrium.  The wires from the pacemaker and defibrillator were transected coming from the superior vena cava and the Swan-Ganz catheter was brought out into the operative field.  Cardiectomy was then performed, first resecting the anterior portion of the right atrium and then transecting the aorta, the pulmonary artery, the septum between the right and left atriums, and then the heart was removed.  The right and left atrium, aorta, and pulmonary artery were prepared for the transplant.  First, we did a side-to-side anastomosis, continued to the left atrium and this was performed using 3-0 Prolene suture and a right atrial anastomosis side-to-side was performed using 3-0 Prolene suture.  The pulmonary artery was then anastomosed using 5-0 Prolene and the aorta was anastomosed with 4-0 Prolene.  The arterial anastomosis in the pulmonary artery and aorta were not completed until the heart was filled with blood.  Air was evacuated and the sutures were tied down.  The clamp on the ascending aorta was removed and the patient was gradually overtime weaned from cardiopulmonary bypass.  The patient had a postoperative coagulopathy which prolonged the period of time in the operating room after completion and weaning off of the cardiopulmonary bypass.  Blood factors and factor VII were given to try and correct the coagulopathy.  Because of excessive transfusions that were required, a Mahurkar catheter was inserted through the left common femoral vein, first placing a needle into the vein and then guidewire removed, and the needle dilators were then placed and then the Mahurkar catheter was then placed with 2-0 nylon suture.  Hemofiltration was started in the operating room at this time.  After he had satisfactory hemostasis, we decided to do the chest open and cover it with Ioban, which we did, and one chest tube was inserted into the mediastinum through a separate stab wound.  The patient also had an intraaortic balloon for counterpulsation which had been inserted into the left subclavian vein preoperatively.  This was left in place and the pulse generation, the pacemaker was in a right infraclavicular position, which was left in place because of the coagulopathy.  The patient received 11 units of packed red blood cells, 7 platelets, 23 fresh-frozen plasma, 20 cryoprecipitates, and factor VII.  Urine output for the procedure was 520 mL.  The preservation time of the heart is in the anesthesia sheet.  The estimated blood loss was at least 6 L.  The patient was taken to the intensive care unit in guarded condition.\n",
      "\n",
      "\n",
      "Keywords:\n",
      "surgery, cardiomyopathy, ioban, ischemic, ischemic cardiomyopathy, mahurkar catheter, orthostatic, seldinger, swan-ganz, allograft, aorta, balloon, cardiac, cardiopulmonary bypass, catheter, coagulopathy, coronary artery bypass, femoral vein, hemofiltration, intraaortic, intraaortic balloon, sternotomy, transplantation, ventricle, inferior vena cava, cardiac allograft, common femoral, vena cava, pulmonary artery, atrium, insertion, cardiopulmonary, artery\n",
      "\n",
      "\n",
      "Result:\n",
      "cardiovascular / pulmonary, amchemic cardiomyopathy, intraaortic balloon, coronary artery bypass bypass, ischemic, interacortic, hemofiltration, femoral artery bypass, internal cannula, pulmonary vein, cannula sutures, canniopulmonary bypass, pulmonary artery, aorta, pulmonary, artery, bypass, anastomosis, pulmonaryNOTE,: Thesetranscribed medical transcription sample reports and examples\n",
      "\n",
      "\n",
      "\n",
      "\n",
      "-----------------Row no 5------------------\n",
      "Transcription:\n",
      "EXAM: , Five views of the right knee.,HISTORY: , Pain.  The patient is status-post surgery, he could not straighten his leg, pain in the back of the knee.,TECHNIQUE:,  Five views of the right knee were evaluated.  There are no priors for comparison.,FINDINGS: , Five views of the right knee were evaluated and they reveal there is no evidence of any displaced fractures, dislocations, or subluxations.  There are multiple areas of growth arrest lines seen in the distal aspect of the femur and proximal aspect of the tibia.  There is also appearance of a high-riding patella suggestive of patella alta.,IMPRESSION:,1.  No evidence of any displaced fractures, dislocations, or subluxations.,2.  Growth arrest lines seen in the distal femur and proximal tibia.,3.  Questionable appearance of a slightly high-riding patella, possibly suggesting patella alta.\n",
      "\n",
      "\n",
      "Keywords:\n",
      "radiology, fractures dislocations or subluxations, femur and proximal, growth arrest lines, patella alta, fractures, dislocations, subluxations, distal, femur, patella\n",
      "\n",
      "\n",
      "Result:\n",
      "orthopedic, femur and proximal tibia, growth arrest lines, distal femur, proximal patella alta, patello altaIMPRESSION, femurs, proxic tibia dislocations, distall femur/ proximal, femoral and proxile tibia., patellar alta., femur fascia, femura, dislocation, subluxations, tibia/orthopty\n",
      "\n",
      "\n",
      "\n",
      "\n"
     ]
    }
   ],
   "source": [
    "for i in range(5):\n",
    "    \n",
    "    print(f\"-----------------Row no {i+1}------------------\")\n",
    "    print(\"Transcription:\")\n",
    "    print(df_res['transcription'].iloc[i])\n",
    "    print(\"\\n\")\n",
    "    print(\"Keywords:\")\n",
    "    print(df_res['keywords'].iloc[i])\n",
    "    print(\"\\n\")\n",
    "    print(\"Result:\")\n",
    "    print(df_res['Result'].iloc[i])\n",
    "    print(\"\\n\"*3)"
   ]
  },
  {
   "cell_type": "markdown",
   "id": "20f57f1e",
   "metadata": {
    "papermill": {
     "duration": 0.174755,
     "end_time": "2023-11-28T11:58:56.380839",
     "exception": false,
     "start_time": "2023-11-28T11:58:56.206084",
     "status": "completed"
    },
    "tags": []
   },
   "source": [
    "### The first row is related to eyes the model predicts some keywrods on Eyes\n",
    "\n",
    "### The Second row is related to `gynecology` as `endometriosis` is related to `gynecology` and some keywords like `deudenum` (the part of small intestine) is unrelated to gynaecology\n",
    "\n",
    "### The third one is related to `genetilia` which corelates to human reproductive system \n",
    "\n",
    "### The 4th one is clearly related to circulatory system from the words like `cardio`, `cardiovascular` `cardio pulmonary` and `bypass` etc\n",
    "\n",
    "### The 5th one is related to bones `orthopedic` (bones) the words like `femur`, `fracture` confirms the same\n",
    "\n",
    "\n",
    "### Conclusion:\n",
    "1. BART Transformer model seems to perform well to extracting Medical keywords from transcription\n",
    "2. There are some unrelated responses as we know AI can give misleading results so human knowledge and domain understanding is very important.\n",
    "3. The model preformance can be imporved by having larger data corpus. \n",
    "4. It can be trained on a large medical dataset and can be used ony any health care use case by fine-tuning it\n",
    " "
   ]
  },
  {
   "cell_type": "code",
   "execution_count": null,
   "id": "e9a2c108",
   "metadata": {
    "papermill": {
     "duration": 0.179519,
     "end_time": "2023-11-28T11:58:56.733488",
     "exception": false,
     "start_time": "2023-11-28T11:58:56.553969",
     "status": "completed"
    },
    "tags": []
   },
   "outputs": [],
   "source": []
  }
 ],
 "metadata": {
  "kaggle": {
   "accelerator": "nvidiaTeslaT4",
   "dataSources": [
    {
     "datasetId": 64826,
     "sourceId": 127612,
     "sourceType": "datasetVersion"
    }
   ],
   "dockerImageVersionId": 30587,
   "isGpuEnabled": true,
   "isInternetEnabled": true,
   "language": "python",
   "sourceType": "notebook"
  },
  "kernelspec": {
   "display_name": "sbench",
   "language": "python",
   "name": "python3"
  },
  "language_info": {
   "codemirror_mode": {
    "name": "ipython",
    "version": 3
   },
   "file_extension": ".py",
   "mimetype": "text/x-python",
   "name": "python",
   "nbconvert_exporter": "python",
   "pygments_lexer": "ipython3",
   "version": "3.10.18"
  },
  "papermill": {
   "default_parameters": {},
   "duration": 1737.522797,
   "end_time": "2023-11-28T11:58:59.305759",
   "environment_variables": {},
   "exception": null,
   "input_path": "__notebook__.ipynb",
   "output_path": "__notebook__.ipynb",
   "parameters": {},
   "start_time": "2023-11-28T11:30:01.782962",
   "version": "2.4.0"
  },
  "widgets": {
   "application/vnd.jupyter.widget-state+json": {
    "state": {
     "02d7c8017ace47e6ae9327e81ec84883": {
      "model_module": "@jupyter-widgets/controls",
      "model_module_version": "1.5.0",
      "model_name": "HTMLModel",
      "state": {
       "_dom_classes": [],
       "_model_module": "@jupyter-widgets/controls",
       "_model_module_version": "1.5.0",
       "_model_name": "HTMLModel",
       "_view_count": null,
       "_view_module": "@jupyter-widgets/controls",
       "_view_module_version": "1.5.0",
       "_view_name": "HTMLView",
       "description": "",
       "description_tooltip": null,
       "layout": "IPY_MODEL_144556c876dc4af89518308e2e96bd6e",
       "placeholder": "​",
       "style": "IPY_MODEL_e13ab5d6477f40638b8e7a6dc5e04229",
       "value": "Downloading tokenizer.json: 100%"
      }
     },
     "06081ab97926421d92d13c30ebd9bf6c": {
      "model_module": "@jupyter-widgets/controls",
      "model_module_version": "1.5.0",
      "model_name": "HBoxModel",
      "state": {
       "_dom_classes": [],
       "_model_module": "@jupyter-widgets/controls",
       "_model_module_version": "1.5.0",
       "_model_name": "HBoxModel",
       "_view_count": null,
       "_view_module": "@jupyter-widgets/controls",
       "_view_module_version": "1.5.0",
       "_view_name": "HBoxView",
       "box_style": "",
       "children": [
        "IPY_MODEL_0bdcc59372ee4a3c9288b516eccc6e63",
        "IPY_MODEL_3a2e8943b2ea4621a1f4aaf44d410b1a",
        "IPY_MODEL_6d1616670ec04534844e726752e51489"
       ],
       "layout": "IPY_MODEL_d9e3792b68c3482fb7b62679093c27bf"
      }
     },
     "0bdcc59372ee4a3c9288b516eccc6e63": {
      "model_module": "@jupyter-widgets/controls",
      "model_module_version": "1.5.0",
      "model_name": "HTMLModel",
      "state": {
       "_dom_classes": [],
       "_model_module": "@jupyter-widgets/controls",
       "_model_module_version": "1.5.0",
       "_model_name": "HTMLModel",
       "_view_count": null,
       "_view_module": "@jupyter-widgets/controls",
       "_view_module_version": "1.5.0",
       "_view_name": "HTMLView",
       "description": "",
       "description_tooltip": null,
       "layout": "IPY_MODEL_47a305b1bec9420c9503680a2ff4f795",
       "placeholder": "​",
       "style": "IPY_MODEL_d6cf38d9c9c74376ba503fdc62c5490d",
       "value": "Downloading model.safetensors: 100%"
      }
     },
     "0cd9969022454be7a3f13479b0eaed02": {
      "model_module": "@jupyter-widgets/controls",
      "model_module_version": "1.5.0",
      "model_name": "HBoxModel",
      "state": {
       "_dom_classes": [],
       "_model_module": "@jupyter-widgets/controls",
       "_model_module_version": "1.5.0",
       "_model_name": "HBoxModel",
       "_view_count": null,
       "_view_module": "@jupyter-widgets/controls",
       "_view_module_version": "1.5.0",
       "_view_name": "HBoxView",
       "box_style": "",
       "children": [
        "IPY_MODEL_c97c5db300d549e49427616f02b58e36",
        "IPY_MODEL_36d4db4196a84aadaaa489ea69383be4",
        "IPY_MODEL_4705607c5241479b9745183ccdb34e5b"
       ],
       "layout": "IPY_MODEL_cdc1711ac8a54efba75e8c6df6dc9e14"
      }
     },
     "104aa44dd00d42b88d797a6b7c801462": {
      "model_module": "@jupyter-widgets/controls",
      "model_module_version": "1.5.0",
      "model_name": "ProgressStyleModel",
      "state": {
       "_model_module": "@jupyter-widgets/controls",
       "_model_module_version": "1.5.0",
       "_model_name": "ProgressStyleModel",
       "_view_count": null,
       "_view_module": "@jupyter-widgets/base",
       "_view_module_version": "1.2.0",
       "_view_name": "StyleView",
       "bar_color": null,
       "description_width": ""
      }
     },
     "144556c876dc4af89518308e2e96bd6e": {
      "model_module": "@jupyter-widgets/base",
      "model_module_version": "1.2.0",
      "model_name": "LayoutModel",
      "state": {
       "_model_module": "@jupyter-widgets/base",
       "_model_module_version": "1.2.0",
       "_model_name": "LayoutModel",
       "_view_count": null,
       "_view_module": "@jupyter-widgets/base",
       "_view_module_version": "1.2.0",
       "_view_name": "LayoutView",
       "align_content": null,
       "align_items": null,
       "align_self": null,
       "border": null,
       "bottom": null,
       "display": null,
       "flex": null,
       "flex_flow": null,
       "grid_area": null,
       "grid_auto_columns": null,
       "grid_auto_flow": null,
       "grid_auto_rows": null,
       "grid_column": null,
       "grid_gap": null,
       "grid_row": null,
       "grid_template_areas": null,
       "grid_template_columns": null,
       "grid_template_rows": null,
       "height": null,
       "justify_content": null,
       "justify_items": null,
       "left": null,
       "margin": null,
       "max_height": null,
       "max_width": null,
       "min_height": null,
       "min_width": null,
       "object_fit": null,
       "object_position": null,
       "order": null,
       "overflow": null,
       "overflow_x": null,
       "overflow_y": null,
       "padding": null,
       "right": null,
       "top": null,
       "visibility": null,
       "width": null
      }
     },
     "1cf98b79ac5c42ceaad59fbbc32f633b": {
      "model_module": "@jupyter-widgets/controls",
      "model_module_version": "1.5.0",
      "model_name": "DescriptionStyleModel",
      "state": {
       "_model_module": "@jupyter-widgets/controls",
       "_model_module_version": "1.5.0",
       "_model_name": "DescriptionStyleModel",
       "_view_count": null,
       "_view_module": "@jupyter-widgets/base",
       "_view_module_version": "1.2.0",
       "_view_name": "StyleView",
       "description_width": ""
      }
     },
     "1d8e584d7a544643a5d498331aa08071": {
      "model_module": "@jupyter-widgets/controls",
      "model_module_version": "1.5.0",
      "model_name": "ProgressStyleModel",
      "state": {
       "_model_module": "@jupyter-widgets/controls",
       "_model_module_version": "1.5.0",
       "_model_name": "ProgressStyleModel",
       "_view_count": null,
       "_view_module": "@jupyter-widgets/base",
       "_view_module_version": "1.2.0",
       "_view_name": "StyleView",
       "bar_color": null,
       "description_width": ""
      }
     },
     "223b8ace2b1e44ca91fa926cef003fd1": {
      "model_module": "@jupyter-widgets/controls",
      "model_module_version": "1.5.0",
      "model_name": "HTMLModel",
      "state": {
       "_dom_classes": [],
       "_model_module": "@jupyter-widgets/controls",
       "_model_module_version": "1.5.0",
       "_model_name": "HTMLModel",
       "_view_count": null,
       "_view_module": "@jupyter-widgets/controls",
       "_view_module_version": "1.5.0",
       "_view_name": "HTMLView",
       "description": "",
       "description_tooltip": null,
       "layout": "IPY_MODEL_d663501fd9e84da1a706a4181318cdd2",
       "placeholder": "​",
       "style": "IPY_MODEL_8054e08fb76646f69062b9bdb77a09ec",
       "value": " 456k/456k [00:00&lt;00:00, 20.0MB/s]"
      }
     },
     "226ecae0a6674c60bd19f9935368d2f7": {
      "model_module": "@jupyter-widgets/base",
      "model_module_version": "1.2.0",
      "model_name": "LayoutModel",
      "state": {
       "_model_module": "@jupyter-widgets/base",
       "_model_module_version": "1.2.0",
       "_model_name": "LayoutModel",
       "_view_count": null,
       "_view_module": "@jupyter-widgets/base",
       "_view_module_version": "1.2.0",
       "_view_name": "LayoutView",
       "align_content": null,
       "align_items": null,
       "align_self": null,
       "border": null,
       "bottom": null,
       "display": null,
       "flex": null,
       "flex_flow": null,
       "grid_area": null,
       "grid_auto_columns": null,
       "grid_auto_flow": null,
       "grid_auto_rows": null,
       "grid_column": null,
       "grid_gap": null,
       "grid_row": null,
       "grid_template_areas": null,
       "grid_template_columns": null,
       "grid_template_rows": null,
       "height": null,
       "justify_content": null,
       "justify_items": null,
       "left": null,
       "margin": null,
       "max_height": null,
       "max_width": null,
       "min_height": null,
       "min_width": null,
       "object_fit": null,
       "object_position": null,
       "order": null,
       "overflow": null,
       "overflow_x": null,
       "overflow_y": null,
       "padding": null,
       "right": null,
       "top": null,
       "visibility": null,
       "width": null
      }
     },
     "22ff817fc3a84dd290c12f4c97a3e9ef": {
      "model_module": "@jupyter-widgets/controls",
      "model_module_version": "1.5.0",
      "model_name": "ProgressStyleModel",
      "state": {
       "_model_module": "@jupyter-widgets/controls",
       "_model_module_version": "1.5.0",
       "_model_name": "ProgressStyleModel",
       "_view_count": null,
       "_view_module": "@jupyter-widgets/base",
       "_view_module_version": "1.2.0",
       "_view_name": "StyleView",
       "bar_color": null,
       "description_width": ""
      }
     },
     "2ab8e5e1164b424c89b16eafe2deb5d5": {
      "model_module": "@jupyter-widgets/base",
      "model_module_version": "1.2.0",
      "model_name": "LayoutModel",
      "state": {
       "_model_module": "@jupyter-widgets/base",
       "_model_module_version": "1.2.0",
       "_model_name": "LayoutModel",
       "_view_count": null,
       "_view_module": "@jupyter-widgets/base",
       "_view_module_version": "1.2.0",
       "_view_name": "LayoutView",
       "align_content": null,
       "align_items": null,
       "align_self": null,
       "border": null,
       "bottom": null,
       "display": null,
       "flex": null,
       "flex_flow": null,
       "grid_area": null,
       "grid_auto_columns": null,
       "grid_auto_flow": null,
       "grid_auto_rows": null,
       "grid_column": null,
       "grid_gap": null,
       "grid_row": null,
       "grid_template_areas": null,
       "grid_template_columns": null,
       "grid_template_rows": null,
       "height": null,
       "justify_content": null,
       "justify_items": null,
       "left": null,
       "margin": null,
       "max_height": null,
       "max_width": null,
       "min_height": null,
       "min_width": null,
       "object_fit": null,
       "object_position": null,
       "order": null,
       "overflow": null,
       "overflow_x": null,
       "overflow_y": null,
       "padding": null,
       "right": null,
       "top": null,
       "visibility": null,
       "width": null
      }
     },
     "36d4db4196a84aadaaa489ea69383be4": {
      "model_module": "@jupyter-widgets/controls",
      "model_module_version": "1.5.0",
      "model_name": "FloatProgressModel",
      "state": {
       "_dom_classes": [],
       "_model_module": "@jupyter-widgets/controls",
       "_model_module_version": "1.5.0",
       "_model_name": "FloatProgressModel",
       "_view_count": null,
       "_view_module": "@jupyter-widgets/controls",
       "_view_module_version": "1.5.0",
       "_view_name": "ProgressView",
       "bar_style": "success",
       "description": "",
       "description_tooltip": null,
       "layout": "IPY_MODEL_4a774a580b6847a4a629058d6d6cce5a",
       "max": 1716,
       "min": 0,
       "orientation": "horizontal",
       "style": "IPY_MODEL_67a11f83025d494c8f0e3fe3f2b72771",
       "value": 1716
      }
     },
     "3a2e8943b2ea4621a1f4aaf44d410b1a": {
      "model_module": "@jupyter-widgets/controls",
      "model_module_version": "1.5.0",
      "model_name": "FloatProgressModel",
      "state": {
       "_dom_classes": [],
       "_model_module": "@jupyter-widgets/controls",
       "_model_module_version": "1.5.0",
       "_model_name": "FloatProgressModel",
       "_view_count": null,
       "_view_module": "@jupyter-widgets/controls",
       "_view_module_version": "1.5.0",
       "_view_name": "ProgressView",
       "bar_style": "success",
       "description": "",
       "description_tooltip": null,
       "layout": "IPY_MODEL_89ddd3fda6244d778f0917d89cfccf0f",
       "max": 557709915,
       "min": 0,
       "orientation": "horizontal",
       "style": "IPY_MODEL_104aa44dd00d42b88d797a6b7c801462",
       "value": 557709915
      }
     },
     "3cabba78ce2f40c7b58bb27bb6bf4cc6": {
      "model_module": "@jupyter-widgets/base",
      "model_module_version": "1.2.0",
      "model_name": "LayoutModel",
      "state": {
       "_model_module": "@jupyter-widgets/base",
       "_model_module_version": "1.2.0",
       "_model_name": "LayoutModel",
       "_view_count": null,
       "_view_module": "@jupyter-widgets/base",
       "_view_module_version": "1.2.0",
       "_view_name": "LayoutView",
       "align_content": null,
       "align_items": null,
       "align_self": null,
       "border": null,
       "bottom": null,
       "display": null,
       "flex": null,
       "flex_flow": null,
       "grid_area": null,
       "grid_auto_columns": null,
       "grid_auto_flow": null,
       "grid_auto_rows": null,
       "grid_column": null,
       "grid_gap": null,
       "grid_row": null,
       "grid_template_areas": null,
       "grid_template_columns": null,
       "grid_template_rows": null,
       "height": null,
       "justify_content": null,
       "justify_items": null,
       "left": null,
       "margin": null,
       "max_height": null,
       "max_width": null,
       "min_height": null,
       "min_width": null,
       "object_fit": null,
       "object_position": null,
       "order": null,
       "overflow": null,
       "overflow_x": null,
       "overflow_y": null,
       "padding": null,
       "right": null,
       "top": null,
       "visibility": null,
       "width": null
      }
     },
     "3e5dd9263f54428e9524d10233f82b3d": {
      "model_module": "@jupyter-widgets/controls",
      "model_module_version": "1.5.0",
      "model_name": "FloatProgressModel",
      "state": {
       "_dom_classes": [],
       "_model_module": "@jupyter-widgets/controls",
       "_model_module_version": "1.5.0",
       "_model_name": "FloatProgressModel",
       "_view_count": null,
       "_view_module": "@jupyter-widgets/controls",
       "_view_module_version": "1.5.0",
       "_view_name": "ProgressView",
       "bar_style": "success",
       "description": "",
       "description_tooltip": null,
       "layout": "IPY_MODEL_ec6526114eb14ddc843c451758716dc8",
       "max": 1355863,
       "min": 0,
       "orientation": "horizontal",
       "style": "IPY_MODEL_1d8e584d7a544643a5d498331aa08071",
       "value": 1355863
      }
     },
     "45083fe06d4149b9a3de5ffae0a35be0": {
      "model_module": "@jupyter-widgets/controls",
      "model_module_version": "1.5.0",
      "model_name": "ProgressStyleModel",
      "state": {
       "_model_module": "@jupyter-widgets/controls",
       "_model_module_version": "1.5.0",
       "_model_name": "ProgressStyleModel",
       "_view_count": null,
       "_view_module": "@jupyter-widgets/base",
       "_view_module_version": "1.2.0",
       "_view_name": "StyleView",
       "bar_color": null,
       "description_width": ""
      }
     },
     "452a37548cb5478d9879f60c4ed16d9e": {
      "model_module": "@jupyter-widgets/base",
      "model_module_version": "1.2.0",
      "model_name": "LayoutModel",
      "state": {
       "_model_module": "@jupyter-widgets/base",
       "_model_module_version": "1.2.0",
       "_model_name": "LayoutModel",
       "_view_count": null,
       "_view_module": "@jupyter-widgets/base",
       "_view_module_version": "1.2.0",
       "_view_name": "LayoutView",
       "align_content": null,
       "align_items": null,
       "align_self": null,
       "border": null,
       "bottom": null,
       "display": null,
       "flex": null,
       "flex_flow": null,
       "grid_area": null,
       "grid_auto_columns": null,
       "grid_auto_flow": null,
       "grid_auto_rows": null,
       "grid_column": null,
       "grid_gap": null,
       "grid_row": null,
       "grid_template_areas": null,
       "grid_template_columns": null,
       "grid_template_rows": null,
       "height": null,
       "justify_content": null,
       "justify_items": null,
       "left": null,
       "margin": null,
       "max_height": null,
       "max_width": null,
       "min_height": null,
       "min_width": null,
       "object_fit": null,
       "object_position": null,
       "order": null,
       "overflow": null,
       "overflow_x": null,
       "overflow_y": null,
       "padding": null,
       "right": null,
       "top": null,
       "visibility": null,
       "width": null
      }
     },
     "4705607c5241479b9745183ccdb34e5b": {
      "model_module": "@jupyter-widgets/controls",
      "model_module_version": "1.5.0",
      "model_name": "HTMLModel",
      "state": {
       "_dom_classes": [],
       "_model_module": "@jupyter-widgets/controls",
       "_model_module_version": "1.5.0",
       "_model_name": "HTMLModel",
       "_view_count": null,
       "_view_module": "@jupyter-widgets/controls",
       "_view_module_version": "1.5.0",
       "_view_name": "HTMLView",
       "description": "",
       "description_tooltip": null,
       "layout": "IPY_MODEL_2ab8e5e1164b424c89b16eafe2deb5d5",
       "placeholder": "​",
       "style": "IPY_MODEL_d0c39e2d91594a859ad85eecdc8a3909",
       "value": " 1.72k/1.72k [00:00&lt;00:00, 123kB/s]"
      }
     },
     "47a305b1bec9420c9503680a2ff4f795": {
      "model_module": "@jupyter-widgets/base",
      "model_module_version": "1.2.0",
      "model_name": "LayoutModel",
      "state": {
       "_model_module": "@jupyter-widgets/base",
       "_model_module_version": "1.2.0",
       "_model_name": "LayoutModel",
       "_view_count": null,
       "_view_module": "@jupyter-widgets/base",
       "_view_module_version": "1.2.0",
       "_view_name": "LayoutView",
       "align_content": null,
       "align_items": null,
       "align_self": null,
       "border": null,
       "bottom": null,
       "display": null,
       "flex": null,
       "flex_flow": null,
       "grid_area": null,
       "grid_auto_columns": null,
       "grid_auto_flow": null,
       "grid_auto_rows": null,
       "grid_column": null,
       "grid_gap": null,
       "grid_row": null,
       "grid_template_areas": null,
       "grid_template_columns": null,
       "grid_template_rows": null,
       "height": null,
       "justify_content": null,
       "justify_items": null,
       "left": null,
       "margin": null,
       "max_height": null,
       "max_width": null,
       "min_height": null,
       "min_width": null,
       "object_fit": null,
       "object_position": null,
       "order": null,
       "overflow": null,
       "overflow_x": null,
       "overflow_y": null,
       "padding": null,
       "right": null,
       "top": null,
       "visibility": null,
       "width": null
      }
     },
     "4a774a580b6847a4a629058d6d6cce5a": {
      "model_module": "@jupyter-widgets/base",
      "model_module_version": "1.2.0",
      "model_name": "LayoutModel",
      "state": {
       "_model_module": "@jupyter-widgets/base",
       "_model_module_version": "1.2.0",
       "_model_name": "LayoutModel",
       "_view_count": null,
       "_view_module": "@jupyter-widgets/base",
       "_view_module_version": "1.2.0",
       "_view_name": "LayoutView",
       "align_content": null,
       "align_items": null,
       "align_self": null,
       "border": null,
       "bottom": null,
       "display": null,
       "flex": null,
       "flex_flow": null,
       "grid_area": null,
       "grid_auto_columns": null,
       "grid_auto_flow": null,
       "grid_auto_rows": null,
       "grid_column": null,
       "grid_gap": null,
       "grid_row": null,
       "grid_template_areas": null,
       "grid_template_columns": null,
       "grid_template_rows": null,
       "height": null,
       "justify_content": null,
       "justify_items": null,
       "left": null,
       "margin": null,
       "max_height": null,
       "max_width": null,
       "min_height": null,
       "min_width": null,
       "object_fit": null,
       "object_position": null,
       "order": null,
       "overflow": null,
       "overflow_x": null,
       "overflow_y": null,
       "padding": null,
       "right": null,
       "top": null,
       "visibility": null,
       "width": null
      }
     },
     "4c18f34e0fef4deba60c310b6a9004ad": {
      "model_module": "@jupyter-widgets/controls",
      "model_module_version": "1.5.0",
      "model_name": "FloatProgressModel",
      "state": {
       "_dom_classes": [],
       "_model_module": "@jupyter-widgets/controls",
       "_model_module_version": "1.5.0",
       "_model_name": "FloatProgressModel",
       "_view_count": null,
       "_view_module": "@jupyter-widgets/controls",
       "_view_module_version": "1.5.0",
       "_view_name": "ProgressView",
       "bar_style": "success",
       "description": "",
       "description_tooltip": null,
       "layout": "IPY_MODEL_74f17a7f62c24dccb3dfe558def7bc3d",
       "max": 898823,
       "min": 0,
       "orientation": "horizontal",
       "style": "IPY_MODEL_22ff817fc3a84dd290c12f4c97a3e9ef",
       "value": 898823
      }
     },
     "4cf41c097d7a435991390d9960761078": {
      "model_module": "@jupyter-widgets/base",
      "model_module_version": "1.2.0",
      "model_name": "LayoutModel",
      "state": {
       "_model_module": "@jupyter-widgets/base",
       "_model_module_version": "1.2.0",
       "_model_name": "LayoutModel",
       "_view_count": null,
       "_view_module": "@jupyter-widgets/base",
       "_view_module_version": "1.2.0",
       "_view_name": "LayoutView",
       "align_content": null,
       "align_items": null,
       "align_self": null,
       "border": null,
       "bottom": null,
       "display": null,
       "flex": null,
       "flex_flow": null,
       "grid_area": null,
       "grid_auto_columns": null,
       "grid_auto_flow": null,
       "grid_auto_rows": null,
       "grid_column": null,
       "grid_gap": null,
       "grid_row": null,
       "grid_template_areas": null,
       "grid_template_columns": null,
       "grid_template_rows": null,
       "height": null,
       "justify_content": null,
       "justify_items": null,
       "left": null,
       "margin": null,
       "max_height": null,
       "max_width": null,
       "min_height": null,
       "min_width": null,
       "object_fit": null,
       "object_position": null,
       "order": null,
       "overflow": null,
       "overflow_x": null,
       "overflow_y": null,
       "padding": null,
       "right": null,
       "top": null,
       "visibility": null,
       "width": null
      }
     },
     "4e21d08f763b422e997bae89b986e7a7": {
      "model_module": "@jupyter-widgets/controls",
      "model_module_version": "1.5.0",
      "model_name": "DescriptionStyleModel",
      "state": {
       "_model_module": "@jupyter-widgets/controls",
       "_model_module_version": "1.5.0",
       "_model_name": "DescriptionStyleModel",
       "_view_count": null,
       "_view_module": "@jupyter-widgets/base",
       "_view_module_version": "1.2.0",
       "_view_name": "StyleView",
       "description_width": ""
      }
     },
     "4f306505b7424de88c921ef3b86cf85f": {
      "model_module": "@jupyter-widgets/controls",
      "model_module_version": "1.5.0",
      "model_name": "HTMLModel",
      "state": {
       "_dom_classes": [],
       "_model_module": "@jupyter-widgets/controls",
       "_model_module_version": "1.5.0",
       "_model_name": "HTMLModel",
       "_view_count": null,
       "_view_module": "@jupyter-widgets/controls",
       "_view_module_version": "1.5.0",
       "_view_name": "HTMLView",
       "description": "",
       "description_tooltip": null,
       "layout": "IPY_MODEL_62faccbb035343cba7e1a8014e78d038",
       "placeholder": "​",
       "style": "IPY_MODEL_b6c16e81741546fc8491496f5a961e74",
       "value": "Downloading vocab.json: 100%"
      }
     },
     "61b6519838f0437ebf460ce19e215273": {
      "model_module": "@jupyter-widgets/base",
      "model_module_version": "1.2.0",
      "model_name": "LayoutModel",
      "state": {
       "_model_module": "@jupyter-widgets/base",
       "_model_module_version": "1.2.0",
       "_model_name": "LayoutModel",
       "_view_count": null,
       "_view_module": "@jupyter-widgets/base",
       "_view_module_version": "1.2.0",
       "_view_name": "LayoutView",
       "align_content": null,
       "align_items": null,
       "align_self": null,
       "border": null,
       "bottom": null,
       "display": null,
       "flex": null,
       "flex_flow": null,
       "grid_area": null,
       "grid_auto_columns": null,
       "grid_auto_flow": null,
       "grid_auto_rows": null,
       "grid_column": null,
       "grid_gap": null,
       "grid_row": null,
       "grid_template_areas": null,
       "grid_template_columns": null,
       "grid_template_rows": null,
       "height": null,
       "justify_content": null,
       "justify_items": null,
       "left": null,
       "margin": null,
       "max_height": null,
       "max_width": null,
       "min_height": null,
       "min_width": null,
       "object_fit": null,
       "object_position": null,
       "order": null,
       "overflow": null,
       "overflow_x": null,
       "overflow_y": null,
       "padding": null,
       "right": null,
       "top": null,
       "visibility": null,
       "width": null
      }
     },
     "62faccbb035343cba7e1a8014e78d038": {
      "model_module": "@jupyter-widgets/base",
      "model_module_version": "1.2.0",
      "model_name": "LayoutModel",
      "state": {
       "_model_module": "@jupyter-widgets/base",
       "_model_module_version": "1.2.0",
       "_model_name": "LayoutModel",
       "_view_count": null,
       "_view_module": "@jupyter-widgets/base",
       "_view_module_version": "1.2.0",
       "_view_name": "LayoutView",
       "align_content": null,
       "align_items": null,
       "align_self": null,
       "border": null,
       "bottom": null,
       "display": null,
       "flex": null,
       "flex_flow": null,
       "grid_area": null,
       "grid_auto_columns": null,
       "grid_auto_flow": null,
       "grid_auto_rows": null,
       "grid_column": null,
       "grid_gap": null,
       "grid_row": null,
       "grid_template_areas": null,
       "grid_template_columns": null,
       "grid_template_rows": null,
       "height": null,
       "justify_content": null,
       "justify_items": null,
       "left": null,
       "margin": null,
       "max_height": null,
       "max_width": null,
       "min_height": null,
       "min_width": null,
       "object_fit": null,
       "object_position": null,
       "order": null,
       "overflow": null,
       "overflow_x": null,
       "overflow_y": null,
       "padding": null,
       "right": null,
       "top": null,
       "visibility": null,
       "width": null
      }
     },
     "67a11f83025d494c8f0e3fe3f2b72771": {
      "model_module": "@jupyter-widgets/controls",
      "model_module_version": "1.5.0",
      "model_name": "ProgressStyleModel",
      "state": {
       "_model_module": "@jupyter-widgets/controls",
       "_model_module_version": "1.5.0",
       "_model_name": "ProgressStyleModel",
       "_view_count": null,
       "_view_module": "@jupyter-widgets/base",
       "_view_module_version": "1.2.0",
       "_view_name": "StyleView",
       "bar_color": null,
       "description_width": ""
      }
     },
     "6d1616670ec04534844e726752e51489": {
      "model_module": "@jupyter-widgets/controls",
      "model_module_version": "1.5.0",
      "model_name": "HTMLModel",
      "state": {
       "_dom_classes": [],
       "_model_module": "@jupyter-widgets/controls",
       "_model_module_version": "1.5.0",
       "_model_name": "HTMLModel",
       "_view_count": null,
       "_view_module": "@jupyter-widgets/controls",
       "_view_module_version": "1.5.0",
       "_view_name": "HTMLView",
       "description": "",
       "description_tooltip": null,
       "layout": "IPY_MODEL_f19c4d0298a844a8b9a55613b6d528cc",
       "placeholder": "​",
       "style": "IPY_MODEL_db3322a342514b7fb888eab3a7afa425",
       "value": " 558M/558M [00:02&lt;00:00, 220MB/s]"
      }
     },
     "71ab8c40fdff469aa7bf86a8550f4a63": {
      "model_module": "@jupyter-widgets/base",
      "model_module_version": "1.2.0",
      "model_name": "LayoutModel",
      "state": {
       "_model_module": "@jupyter-widgets/base",
       "_model_module_version": "1.2.0",
       "_model_name": "LayoutModel",
       "_view_count": null,
       "_view_module": "@jupyter-widgets/base",
       "_view_module_version": "1.2.0",
       "_view_name": "LayoutView",
       "align_content": null,
       "align_items": null,
       "align_self": null,
       "border": null,
       "bottom": null,
       "display": null,
       "flex": null,
       "flex_flow": null,
       "grid_area": null,
       "grid_auto_columns": null,
       "grid_auto_flow": null,
       "grid_auto_rows": null,
       "grid_column": null,
       "grid_gap": null,
       "grid_row": null,
       "grid_template_areas": null,
       "grid_template_columns": null,
       "grid_template_rows": null,
       "height": null,
       "justify_content": null,
       "justify_items": null,
       "left": null,
       "margin": null,
       "max_height": null,
       "max_width": null,
       "min_height": null,
       "min_width": null,
       "object_fit": null,
       "object_position": null,
       "order": null,
       "overflow": null,
       "overflow_x": null,
       "overflow_y": null,
       "padding": null,
       "right": null,
       "top": null,
       "visibility": null,
       "width": null
      }
     },
     "74f17a7f62c24dccb3dfe558def7bc3d": {
      "model_module": "@jupyter-widgets/base",
      "model_module_version": "1.2.0",
      "model_name": "LayoutModel",
      "state": {
       "_model_module": "@jupyter-widgets/base",
       "_model_module_version": "1.2.0",
       "_model_name": "LayoutModel",
       "_view_count": null,
       "_view_module": "@jupyter-widgets/base",
       "_view_module_version": "1.2.0",
       "_view_name": "LayoutView",
       "align_content": null,
       "align_items": null,
       "align_self": null,
       "border": null,
       "bottom": null,
       "display": null,
       "flex": null,
       "flex_flow": null,
       "grid_area": null,
       "grid_auto_columns": null,
       "grid_auto_flow": null,
       "grid_auto_rows": null,
       "grid_column": null,
       "grid_gap": null,
       "grid_row": null,
       "grid_template_areas": null,
       "grid_template_columns": null,
       "grid_template_rows": null,
       "height": null,
       "justify_content": null,
       "justify_items": null,
       "left": null,
       "margin": null,
       "max_height": null,
       "max_width": null,
       "min_height": null,
       "min_width": null,
       "object_fit": null,
       "object_position": null,
       "order": null,
       "overflow": null,
       "overflow_x": null,
       "overflow_y": null,
       "padding": null,
       "right": null,
       "top": null,
       "visibility": null,
       "width": null
      }
     },
     "76acda55f91147aea080cde8999f58a6": {
      "model_module": "@jupyter-widgets/controls",
      "model_module_version": "1.5.0",
      "model_name": "HTMLModel",
      "state": {
       "_dom_classes": [],
       "_model_module": "@jupyter-widgets/controls",
       "_model_module_version": "1.5.0",
       "_model_name": "HTMLModel",
       "_view_count": null,
       "_view_module": "@jupyter-widgets/controls",
       "_view_module_version": "1.5.0",
       "_view_name": "HTMLView",
       "description": "",
       "description_tooltip": null,
       "layout": "IPY_MODEL_3cabba78ce2f40c7b58bb27bb6bf4cc6",
       "placeholder": "​",
       "style": "IPY_MODEL_ca076df68368441eb9fec00585ec96de",
       "value": "Downloading merges.txt: 100%"
      }
     },
     "7e6b4f0a80914ed59eae44a365ae56ef": {
      "model_module": "@jupyter-widgets/base",
      "model_module_version": "1.2.0",
      "model_name": "LayoutModel",
      "state": {
       "_model_module": "@jupyter-widgets/base",
       "_model_module_version": "1.2.0",
       "_model_name": "LayoutModel",
       "_view_count": null,
       "_view_module": "@jupyter-widgets/base",
       "_view_module_version": "1.2.0",
       "_view_name": "LayoutView",
       "align_content": null,
       "align_items": null,
       "align_self": null,
       "border": null,
       "bottom": null,
       "display": null,
       "flex": null,
       "flex_flow": null,
       "grid_area": null,
       "grid_auto_columns": null,
       "grid_auto_flow": null,
       "grid_auto_rows": null,
       "grid_column": null,
       "grid_gap": null,
       "grid_row": null,
       "grid_template_areas": null,
       "grid_template_columns": null,
       "grid_template_rows": null,
       "height": null,
       "justify_content": null,
       "justify_items": null,
       "left": null,
       "margin": null,
       "max_height": null,
       "max_width": null,
       "min_height": null,
       "min_width": null,
       "object_fit": null,
       "object_position": null,
       "order": null,
       "overflow": null,
       "overflow_x": null,
       "overflow_y": null,
       "padding": null,
       "right": null,
       "top": null,
       "visibility": null,
       "width": null
      }
     },
     "7f725cf01a094552a1cd3bacd8b2f85f": {
      "model_module": "@jupyter-widgets/controls",
      "model_module_version": "1.5.0",
      "model_name": "HTMLModel",
      "state": {
       "_dom_classes": [],
       "_model_module": "@jupyter-widgets/controls",
       "_model_module_version": "1.5.0",
       "_model_name": "HTMLModel",
       "_view_count": null,
       "_view_module": "@jupyter-widgets/controls",
       "_view_module_version": "1.5.0",
       "_view_name": "HTMLView",
       "description": "",
       "description_tooltip": null,
       "layout": "IPY_MODEL_4cf41c097d7a435991390d9960761078",
       "placeholder": "​",
       "style": "IPY_MODEL_1cf98b79ac5c42ceaad59fbbc32f633b",
       "value": " 1.36M/1.36M [00:00&lt;00:00, 27.3MB/s]"
      }
     },
     "8054e08fb76646f69062b9bdb77a09ec": {
      "model_module": "@jupyter-widgets/controls",
      "model_module_version": "1.5.0",
      "model_name": "DescriptionStyleModel",
      "state": {
       "_model_module": "@jupyter-widgets/controls",
       "_model_module_version": "1.5.0",
       "_model_name": "DescriptionStyleModel",
       "_view_count": null,
       "_view_module": "@jupyter-widgets/base",
       "_view_module_version": "1.2.0",
       "_view_name": "StyleView",
       "description_width": ""
      }
     },
     "89ddd3fda6244d778f0917d89cfccf0f": {
      "model_module": "@jupyter-widgets/base",
      "model_module_version": "1.2.0",
      "model_name": "LayoutModel",
      "state": {
       "_model_module": "@jupyter-widgets/base",
       "_model_module_version": "1.2.0",
       "_model_name": "LayoutModel",
       "_view_count": null,
       "_view_module": "@jupyter-widgets/base",
       "_view_module_version": "1.2.0",
       "_view_name": "LayoutView",
       "align_content": null,
       "align_items": null,
       "align_self": null,
       "border": null,
       "bottom": null,
       "display": null,
       "flex": null,
       "flex_flow": null,
       "grid_area": null,
       "grid_auto_columns": null,
       "grid_auto_flow": null,
       "grid_auto_rows": null,
       "grid_column": null,
       "grid_gap": null,
       "grid_row": null,
       "grid_template_areas": null,
       "grid_template_columns": null,
       "grid_template_rows": null,
       "height": null,
       "justify_content": null,
       "justify_items": null,
       "left": null,
       "margin": null,
       "max_height": null,
       "max_width": null,
       "min_height": null,
       "min_width": null,
       "object_fit": null,
       "object_position": null,
       "order": null,
       "overflow": null,
       "overflow_x": null,
       "overflow_y": null,
       "padding": null,
       "right": null,
       "top": null,
       "visibility": null,
       "width": null
      }
     },
     "a25b7658922e46dc8647322823700eb2": {
      "model_module": "@jupyter-widgets/controls",
      "model_module_version": "1.5.0",
      "model_name": "HBoxModel",
      "state": {
       "_dom_classes": [],
       "_model_module": "@jupyter-widgets/controls",
       "_model_module_version": "1.5.0",
       "_model_name": "HBoxModel",
       "_view_count": null,
       "_view_module": "@jupyter-widgets/controls",
       "_view_module_version": "1.5.0",
       "_view_name": "HBoxView",
       "box_style": "",
       "children": [
        "IPY_MODEL_02d7c8017ace47e6ae9327e81ec84883",
        "IPY_MODEL_3e5dd9263f54428e9524d10233f82b3d",
        "IPY_MODEL_7f725cf01a094552a1cd3bacd8b2f85f"
       ],
       "layout": "IPY_MODEL_e9ed76fa630849958e19641721394ea1"
      }
     },
     "b4122aeac9e747adb4217f8a7bd2b181": {
      "model_module": "@jupyter-widgets/controls",
      "model_module_version": "1.5.0",
      "model_name": "HTMLModel",
      "state": {
       "_dom_classes": [],
       "_model_module": "@jupyter-widgets/controls",
       "_model_module_version": "1.5.0",
       "_model_name": "HTMLModel",
       "_view_count": null,
       "_view_module": "@jupyter-widgets/controls",
       "_view_module_version": "1.5.0",
       "_view_name": "HTMLView",
       "description": "",
       "description_tooltip": null,
       "layout": "IPY_MODEL_61b6519838f0437ebf460ce19e215273",
       "placeholder": "​",
       "style": "IPY_MODEL_4e21d08f763b422e997bae89b986e7a7",
       "value": " 899k/899k [00:00&lt;00:00, 12.7MB/s]"
      }
     },
     "b6c16e81741546fc8491496f5a961e74": {
      "model_module": "@jupyter-widgets/controls",
      "model_module_version": "1.5.0",
      "model_name": "DescriptionStyleModel",
      "state": {
       "_model_module": "@jupyter-widgets/controls",
       "_model_module_version": "1.5.0",
       "_model_name": "DescriptionStyleModel",
       "_view_count": null,
       "_view_module": "@jupyter-widgets/base",
       "_view_module_version": "1.2.0",
       "_view_name": "StyleView",
       "description_width": ""
      }
     },
     "b914b8c898a0406e9bc4e3182486cd98": {
      "model_module": "@jupyter-widgets/controls",
      "model_module_version": "1.5.0",
      "model_name": "DescriptionStyleModel",
      "state": {
       "_model_module": "@jupyter-widgets/controls",
       "_model_module_version": "1.5.0",
       "_model_name": "DescriptionStyleModel",
       "_view_count": null,
       "_view_module": "@jupyter-widgets/base",
       "_view_module_version": "1.2.0",
       "_view_name": "StyleView",
       "description_width": ""
      }
     },
     "c97c5db300d549e49427616f02b58e36": {
      "model_module": "@jupyter-widgets/controls",
      "model_module_version": "1.5.0",
      "model_name": "HTMLModel",
      "state": {
       "_dom_classes": [],
       "_model_module": "@jupyter-widgets/controls",
       "_model_module_version": "1.5.0",
       "_model_name": "HTMLModel",
       "_view_count": null,
       "_view_module": "@jupyter-widgets/controls",
       "_view_module_version": "1.5.0",
       "_view_name": "HTMLView",
       "description": "",
       "description_tooltip": null,
       "layout": "IPY_MODEL_71ab8c40fdff469aa7bf86a8550f4a63",
       "placeholder": "​",
       "style": "IPY_MODEL_b914b8c898a0406e9bc4e3182486cd98",
       "value": "Downloading config.json: 100%"
      }
     },
     "ca076df68368441eb9fec00585ec96de": {
      "model_module": "@jupyter-widgets/controls",
      "model_module_version": "1.5.0",
      "model_name": "DescriptionStyleModel",
      "state": {
       "_model_module": "@jupyter-widgets/controls",
       "_model_module_version": "1.5.0",
       "_model_name": "DescriptionStyleModel",
       "_view_count": null,
       "_view_module": "@jupyter-widgets/base",
       "_view_module_version": "1.2.0",
       "_view_name": "StyleView",
       "description_width": ""
      }
     },
     "cdc1711ac8a54efba75e8c6df6dc9e14": {
      "model_module": "@jupyter-widgets/base",
      "model_module_version": "1.2.0",
      "model_name": "LayoutModel",
      "state": {
       "_model_module": "@jupyter-widgets/base",
       "_model_module_version": "1.2.0",
       "_model_name": "LayoutModel",
       "_view_count": null,
       "_view_module": "@jupyter-widgets/base",
       "_view_module_version": "1.2.0",
       "_view_name": "LayoutView",
       "align_content": null,
       "align_items": null,
       "align_self": null,
       "border": null,
       "bottom": null,
       "display": null,
       "flex": null,
       "flex_flow": null,
       "grid_area": null,
       "grid_auto_columns": null,
       "grid_auto_flow": null,
       "grid_auto_rows": null,
       "grid_column": null,
       "grid_gap": null,
       "grid_row": null,
       "grid_template_areas": null,
       "grid_template_columns": null,
       "grid_template_rows": null,
       "height": null,
       "justify_content": null,
       "justify_items": null,
       "left": null,
       "margin": null,
       "max_height": null,
       "max_width": null,
       "min_height": null,
       "min_width": null,
       "object_fit": null,
       "object_position": null,
       "order": null,
       "overflow": null,
       "overflow_x": null,
       "overflow_y": null,
       "padding": null,
       "right": null,
       "top": null,
       "visibility": null,
       "width": null
      }
     },
     "d0c39e2d91594a859ad85eecdc8a3909": {
      "model_module": "@jupyter-widgets/controls",
      "model_module_version": "1.5.0",
      "model_name": "DescriptionStyleModel",
      "state": {
       "_model_module": "@jupyter-widgets/controls",
       "_model_module_version": "1.5.0",
       "_model_name": "DescriptionStyleModel",
       "_view_count": null,
       "_view_module": "@jupyter-widgets/base",
       "_view_module_version": "1.2.0",
       "_view_name": "StyleView",
       "description_width": ""
      }
     },
     "d663501fd9e84da1a706a4181318cdd2": {
      "model_module": "@jupyter-widgets/base",
      "model_module_version": "1.2.0",
      "model_name": "LayoutModel",
      "state": {
       "_model_module": "@jupyter-widgets/base",
       "_model_module_version": "1.2.0",
       "_model_name": "LayoutModel",
       "_view_count": null,
       "_view_module": "@jupyter-widgets/base",
       "_view_module_version": "1.2.0",
       "_view_name": "LayoutView",
       "align_content": null,
       "align_items": null,
       "align_self": null,
       "border": null,
       "bottom": null,
       "display": null,
       "flex": null,
       "flex_flow": null,
       "grid_area": null,
       "grid_auto_columns": null,
       "grid_auto_flow": null,
       "grid_auto_rows": null,
       "grid_column": null,
       "grid_gap": null,
       "grid_row": null,
       "grid_template_areas": null,
       "grid_template_columns": null,
       "grid_template_rows": null,
       "height": null,
       "justify_content": null,
       "justify_items": null,
       "left": null,
       "margin": null,
       "max_height": null,
       "max_width": null,
       "min_height": null,
       "min_width": null,
       "object_fit": null,
       "object_position": null,
       "order": null,
       "overflow": null,
       "overflow_x": null,
       "overflow_y": null,
       "padding": null,
       "right": null,
       "top": null,
       "visibility": null,
       "width": null
      }
     },
     "d6cf38d9c9c74376ba503fdc62c5490d": {
      "model_module": "@jupyter-widgets/controls",
      "model_module_version": "1.5.0",
      "model_name": "DescriptionStyleModel",
      "state": {
       "_model_module": "@jupyter-widgets/controls",
       "_model_module_version": "1.5.0",
       "_model_name": "DescriptionStyleModel",
       "_view_count": null,
       "_view_module": "@jupyter-widgets/base",
       "_view_module_version": "1.2.0",
       "_view_name": "StyleView",
       "description_width": ""
      }
     },
     "d9e3792b68c3482fb7b62679093c27bf": {
      "model_module": "@jupyter-widgets/base",
      "model_module_version": "1.2.0",
      "model_name": "LayoutModel",
      "state": {
       "_model_module": "@jupyter-widgets/base",
       "_model_module_version": "1.2.0",
       "_model_name": "LayoutModel",
       "_view_count": null,
       "_view_module": "@jupyter-widgets/base",
       "_view_module_version": "1.2.0",
       "_view_name": "LayoutView",
       "align_content": null,
       "align_items": null,
       "align_self": null,
       "border": null,
       "bottom": null,
       "display": null,
       "flex": null,
       "flex_flow": null,
       "grid_area": null,
       "grid_auto_columns": null,
       "grid_auto_flow": null,
       "grid_auto_rows": null,
       "grid_column": null,
       "grid_gap": null,
       "grid_row": null,
       "grid_template_areas": null,
       "grid_template_columns": null,
       "grid_template_rows": null,
       "height": null,
       "justify_content": null,
       "justify_items": null,
       "left": null,
       "margin": null,
       "max_height": null,
       "max_width": null,
       "min_height": null,
       "min_width": null,
       "object_fit": null,
       "object_position": null,
       "order": null,
       "overflow": null,
       "overflow_x": null,
       "overflow_y": null,
       "padding": null,
       "right": null,
       "top": null,
       "visibility": null,
       "width": null
      }
     },
     "db3322a342514b7fb888eab3a7afa425": {
      "model_module": "@jupyter-widgets/controls",
      "model_module_version": "1.5.0",
      "model_name": "DescriptionStyleModel",
      "state": {
       "_model_module": "@jupyter-widgets/controls",
       "_model_module_version": "1.5.0",
       "_model_name": "DescriptionStyleModel",
       "_view_count": null,
       "_view_module": "@jupyter-widgets/base",
       "_view_module_version": "1.2.0",
       "_view_name": "StyleView",
       "description_width": ""
      }
     },
     "e0e80433e0aa43959c27538464f59fda": {
      "model_module": "@jupyter-widgets/controls",
      "model_module_version": "1.5.0",
      "model_name": "HBoxModel",
      "state": {
       "_dom_classes": [],
       "_model_module": "@jupyter-widgets/controls",
       "_model_module_version": "1.5.0",
       "_model_name": "HBoxModel",
       "_view_count": null,
       "_view_module": "@jupyter-widgets/controls",
       "_view_module_version": "1.5.0",
       "_view_name": "HBoxView",
       "box_style": "",
       "children": [
        "IPY_MODEL_4f306505b7424de88c921ef3b86cf85f",
        "IPY_MODEL_4c18f34e0fef4deba60c310b6a9004ad",
        "IPY_MODEL_b4122aeac9e747adb4217f8a7bd2b181"
       ],
       "layout": "IPY_MODEL_226ecae0a6674c60bd19f9935368d2f7"
      }
     },
     "e13ab5d6477f40638b8e7a6dc5e04229": {
      "model_module": "@jupyter-widgets/controls",
      "model_module_version": "1.5.0",
      "model_name": "DescriptionStyleModel",
      "state": {
       "_model_module": "@jupyter-widgets/controls",
       "_model_module_version": "1.5.0",
       "_model_name": "DescriptionStyleModel",
       "_view_count": null,
       "_view_module": "@jupyter-widgets/base",
       "_view_module_version": "1.2.0",
       "_view_name": "StyleView",
       "description_width": ""
      }
     },
     "e7964651876541f6a94fcdde7099d1f1": {
      "model_module": "@jupyter-widgets/controls",
      "model_module_version": "1.5.0",
      "model_name": "FloatProgressModel",
      "state": {
       "_dom_classes": [],
       "_model_module": "@jupyter-widgets/controls",
       "_model_module_version": "1.5.0",
       "_model_name": "FloatProgressModel",
       "_view_count": null,
       "_view_module": "@jupyter-widgets/controls",
       "_view_module_version": "1.5.0",
       "_view_name": "ProgressView",
       "bar_style": "success",
       "description": "",
       "description_tooltip": null,
       "layout": "IPY_MODEL_7e6b4f0a80914ed59eae44a365ae56ef",
       "max": 456318,
       "min": 0,
       "orientation": "horizontal",
       "style": "IPY_MODEL_45083fe06d4149b9a3de5ffae0a35be0",
       "value": 456318
      }
     },
     "e9ed76fa630849958e19641721394ea1": {
      "model_module": "@jupyter-widgets/base",
      "model_module_version": "1.2.0",
      "model_name": "LayoutModel",
      "state": {
       "_model_module": "@jupyter-widgets/base",
       "_model_module_version": "1.2.0",
       "_model_name": "LayoutModel",
       "_view_count": null,
       "_view_module": "@jupyter-widgets/base",
       "_view_module_version": "1.2.0",
       "_view_name": "LayoutView",
       "align_content": null,
       "align_items": null,
       "align_self": null,
       "border": null,
       "bottom": null,
       "display": null,
       "flex": null,
       "flex_flow": null,
       "grid_area": null,
       "grid_auto_columns": null,
       "grid_auto_flow": null,
       "grid_auto_rows": null,
       "grid_column": null,
       "grid_gap": null,
       "grid_row": null,
       "grid_template_areas": null,
       "grid_template_columns": null,
       "grid_template_rows": null,
       "height": null,
       "justify_content": null,
       "justify_items": null,
       "left": null,
       "margin": null,
       "max_height": null,
       "max_width": null,
       "min_height": null,
       "min_width": null,
       "object_fit": null,
       "object_position": null,
       "order": null,
       "overflow": null,
       "overflow_x": null,
       "overflow_y": null,
       "padding": null,
       "right": null,
       "top": null,
       "visibility": null,
       "width": null
      }
     },
     "ec6526114eb14ddc843c451758716dc8": {
      "model_module": "@jupyter-widgets/base",
      "model_module_version": "1.2.0",
      "model_name": "LayoutModel",
      "state": {
       "_model_module": "@jupyter-widgets/base",
       "_model_module_version": "1.2.0",
       "_model_name": "LayoutModel",
       "_view_count": null,
       "_view_module": "@jupyter-widgets/base",
       "_view_module_version": "1.2.0",
       "_view_name": "LayoutView",
       "align_content": null,
       "align_items": null,
       "align_self": null,
       "border": null,
       "bottom": null,
       "display": null,
       "flex": null,
       "flex_flow": null,
       "grid_area": null,
       "grid_auto_columns": null,
       "grid_auto_flow": null,
       "grid_auto_rows": null,
       "grid_column": null,
       "grid_gap": null,
       "grid_row": null,
       "grid_template_areas": null,
       "grid_template_columns": null,
       "grid_template_rows": null,
       "height": null,
       "justify_content": null,
       "justify_items": null,
       "left": null,
       "margin": null,
       "max_height": null,
       "max_width": null,
       "min_height": null,
       "min_width": null,
       "object_fit": null,
       "object_position": null,
       "order": null,
       "overflow": null,
       "overflow_x": null,
       "overflow_y": null,
       "padding": null,
       "right": null,
       "top": null,
       "visibility": null,
       "width": null
      }
     },
     "f0381cf855004b07b80a9f8e8aa26590": {
      "model_module": "@jupyter-widgets/controls",
      "model_module_version": "1.5.0",
      "model_name": "HBoxModel",
      "state": {
       "_dom_classes": [],
       "_model_module": "@jupyter-widgets/controls",
       "_model_module_version": "1.5.0",
       "_model_name": "HBoxModel",
       "_view_count": null,
       "_view_module": "@jupyter-widgets/controls",
       "_view_module_version": "1.5.0",
       "_view_name": "HBoxView",
       "box_style": "",
       "children": [
        "IPY_MODEL_76acda55f91147aea080cde8999f58a6",
        "IPY_MODEL_e7964651876541f6a94fcdde7099d1f1",
        "IPY_MODEL_223b8ace2b1e44ca91fa926cef003fd1"
       ],
       "layout": "IPY_MODEL_452a37548cb5478d9879f60c4ed16d9e"
      }
     },
     "f19c4d0298a844a8b9a55613b6d528cc": {
      "model_module": "@jupyter-widgets/base",
      "model_module_version": "1.2.0",
      "model_name": "LayoutModel",
      "state": {
       "_model_module": "@jupyter-widgets/base",
       "_model_module_version": "1.2.0",
       "_model_name": "LayoutModel",
       "_view_count": null,
       "_view_module": "@jupyter-widgets/base",
       "_view_module_version": "1.2.0",
       "_view_name": "LayoutView",
       "align_content": null,
       "align_items": null,
       "align_self": null,
       "border": null,
       "bottom": null,
       "display": null,
       "flex": null,
       "flex_flow": null,
       "grid_area": null,
       "grid_auto_columns": null,
       "grid_auto_flow": null,
       "grid_auto_rows": null,
       "grid_column": null,
       "grid_gap": null,
       "grid_row": null,
       "grid_template_areas": null,
       "grid_template_columns": null,
       "grid_template_rows": null,
       "height": null,
       "justify_content": null,
       "justify_items": null,
       "left": null,
       "margin": null,
       "max_height": null,
       "max_width": null,
       "min_height": null,
       "min_width": null,
       "object_fit": null,
       "object_position": null,
       "order": null,
       "overflow": null,
       "overflow_x": null,
       "overflow_y": null,
       "padding": null,
       "right": null,
       "top": null,
       "visibility": null,
       "width": null
      }
     }
    },
    "version_major": 2,
    "version_minor": 0
   }
  }
 },
 "nbformat": 4,
 "nbformat_minor": 5
}
